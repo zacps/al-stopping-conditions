{
 "cells": [
  {
   "cell_type": "code",
   "execution_count": 1,
   "metadata": {},
   "outputs": [],
   "source": [
    "import matplotlib.pyplot as plt\n",
    "import matplotlib"
   ]
  },
  {
   "cell_type": "code",
   "execution_count": 2,
   "metadata": {},
   "outputs": [
    {
     "data": {
      "text/plain": [
       "'3.4.1'"
      ]
     },
     "execution_count": 2,
     "metadata": {},
     "output_type": "execute_result"
    }
   ],
   "source": [
    "matplotlib.__version__"
   ]
  },
  {
   "cell_type": "code",
   "execution_count": 31,
   "metadata": {},
   "outputs": [],
   "source": [
    "import matplotlib.transforms as mtrans\n",
    "from matplotlib.text import TextPath\n",
    "from matplotlib.patches import PathPatch\n",
    "\n",
    "import matplotlib.pyplot as plt\n",
    "\n",
    "\n",
    "def curly(x,y, scale, ax=None):\n",
    "    if not ax: ax=plt.gca()\n",
    "    tp = TextPath((0, 0), \"}\", size=1)\n",
    "    trans = mtrans.Affine2D().scale(1, scale).rotate(90) + \\\n",
    "        mtrans.Affine2D().translate(x,y) + ax.transData\n",
    "    pp = PathPatch(tp, lw=0, fc=\"k\", transform=trans)\n",
    "    ax.add_artist(pp)"
   ]
  },
  {
   "cell_type": "code",
   "execution_count": 35,
   "metadata": {},
   "outputs": [
    {
     "data": {
      "image/png": "[encoded data removed]",
      "text/plain": [
       "<Figure size 720x115.2 with 1 Axes>"
      ]
     },
     "metadata": {
      "needs_background": "light"
     },
     "output_type": "display_data"
    }
   ],
   "source": [
    "fig, ax = plt.subplots(figsize=(10,1.6))\n",
    "plt.rcParams.update({'font.size': 12})\n",
    "b = ax.barh([\"\"], [100], label=\"Initial labelled\")\n",
    "ax.bar_label(b, label_type='center', color='white')\n",
    "b = ax.barh([\"\"], [900], left=100, label=\"Final labelled\")\n",
    "ax.bar_label(b, label_type='center', color='white')\n",
    "b = ax.barh([\"\"], [500], left=1000, label=\"Reserved\")\n",
    "ax.bar_label(b, label_type='center', color='white')\n",
    "b = ax.barh([\"\"], [1500], left=1500, label=\"Test\")\n",
    "ax.bar_label(b, label_type='center', color='white')\n",
    "plt.axis('off')\n",
    "ax.legend(loc='center right')\n",
    "fig.tight_layout();"
   ]
  },
  {
   "cell_type": "code",
   "execution_count": null,
   "metadata": {},
   "outputs": [],
   "source": []
  }
 ],
 "metadata": {
  "kernelspec": {
   "display_name": "venv",
   "language": "python",
   "name": "venv"
  },
  "language_info": {
   "codemirror_mode": {
    "name": "ipython",
    "version": 3
   },
   "file_extension": ".py",
   "mimetype": "text/x-python",
   "name": "python",
   "nbconvert_exporter": "python",
   "pygments_lexer": "ipython3",
   "version": "3.8.0"
  }
 },
 "nbformat": 4,
 "nbformat_minor": 4
}
