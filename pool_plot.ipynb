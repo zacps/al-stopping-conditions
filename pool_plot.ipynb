{
 "cells": [
  {
   "cell_type": "code",
   "execution_count": 1,
   "metadata": {},
   "outputs": [],
   "source": [
    "import matplotlib.pyplot as plt\n",
    "import matplotlib"
   ]
  },
  {
   "cell_type": "code",
   "execution_count": 2,
   "metadata": {},
   "outputs": [
    {
     "data": {
      "text/plain": [
       "'3.4.1'"
      ]
     },
     "execution_count": 2,
     "metadata": {},
     "output_type": "execute_result"
    }
   ],
   "source": [
    "matplotlib.__version__"
   ]
  },
  {
   "cell_type": "code",
   "execution_count": 2,
   "metadata": {},
   "outputs": [],
   "source": [
    "import seaborn as sns"
   ]
  },
  {
   "cell_type": "code",
   "execution_count": 9,
   "metadata": {},
   "outputs": [],
   "source": [
    "import matplotlib.transforms as mtrans\n",
    "from matplotlib.text import TextPath\n",
    "from matplotlib.patches import PathPatch\n",
    "\n",
    "import matplotlib.pyplot as plt\n",
    "\n",
    "\n",
    "def curly(x,y, scale, ax=None):\n",
    "    if not ax: ax=plt.gca()\n",
    "    tp = TextPath((0, 0), \"}\", size=1)\n",
    "    trans = mtrans.Affine2D().scale(1, scale).rotate(90) + \\\n",
    "        mtrans.Affine2D().translate(x,y) + ax.transData\n",
    "    pp = PathPatch(tp, lw=0, fc=\"k\", transform=trans)\n",
    "    ax.add_artist(pp)"
   ]
  },
  {
   "cell_type": "code",
   "execution_count": 83,
   "metadata": {},
   "outputs": [
    {
     "data": {
      "image/png": "[encoded data removed]",
      "text/plain": [
       "<Figure size 576x86.4 with 1 Axes>"
      ]
     },
     "metadata": {
      "needs_background": "light"
     },
     "output_type": "display_data"
    }
   ],
   "source": [
    "fig, ax = plt.subplots(figsize=(8,1.2))\n",
    "plt.rcParams.update({'font.size': 12})\n",
    "\n",
    "b = ax.barh([\"Final\"], [1000], color=\"tab:blue\", label=\"Labelled\")\n",
    "ax.bar_label(b, [\"1000\"], label_type='center', color='white')\n",
    "b = ax.barh([\"Final\"], [500], left=1000, color=\"tab:red\", label=\"Reserved\")\n",
    "ax.bar_label(b, [\"500+\"], label_type='center', color='white')\n",
    "b = ax.barh([\"Final\"], [1500], left=1500, color=\"tab:gray\", label=\"Test\")\n",
    "ax.bar_label(b, [\"1500+\"], label_type='center', color='white')\n",
    "\n",
    "b = ax.barh([\"Initial\"], [100], color=\"tab:blue\")\n",
    "ax.bar_label(b, [\"10\"], label_type='center', color='white')\n",
    "b = ax.barh([\"Initial\"], [1400], left=100, color=\"tab:green\", label=\"Unlabelled\")\n",
    "ax.bar_label(b, [\"1400+\"], label_type='center', color='white')\n",
    "b = ax.barh([\"Initial\"], [1500], left=1500, color=\"tab:gray\")\n",
    "ax.bar_label(b, [\"1500+\"], label_type='center', color='white')\n",
    "\n",
    "#plt.axis('off')\n",
    "ax.spines['left'].set_visible(False)\n",
    "ax.spines['right'].set_visible(False)\n",
    "ax.spines['top'].set_visible(False)\n",
    "ax.spines['bottom'].set_visible(False)\n",
    "ax.get_xaxis().set_visible(False)\n",
    "ax.legend(loc='center right')\n",
    "fig.tight_layout(pad=0)\n",
    "plt.subplots_adjust()\n",
    "plt.savefig('figures/pools.png');"
   ]
  },
  {
   "cell_type": "code",
   "execution_count": null,
   "metadata": {},
   "outputs": [],
   "source": []
  }
 ],
 "metadata": {
  "kernelspec": {
   "display_name": "venv",
   "language": "python",
   "name": "venv"
  },
  "language_info": {
   "codemirror_mode": {
    "name": "ipython",
    "version": 3
   },
   "file_extension": ".py",
   "mimetype": "text/x-python",
   "name": "python",
   "nbconvert_exporter": "python",
   "pygments_lexer": "ipython3",
   "version": "3.8.5"
  }
 },
 "nbformat": 4,
 "nbformat_minor": 4
}
