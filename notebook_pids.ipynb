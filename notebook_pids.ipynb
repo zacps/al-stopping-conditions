{
 "cells": [
  {
   "cell_type": "code",
   "execution_count": 3,
   "metadata": {},
   "outputs": [],
   "source": [
    "import requests\n",
    "\n",
    "def get_running_notebooks(host, port, password=''):\n",
    "    \"\"\"\n",
    "    Get kernel ids and paths of the running notebooks.\n",
    "\n",
    "    Args:\n",
    "        host: host at which the notebook server is listening. E.g. 'localhost'.\n",
    "        port: port at which the notebook server is listening. E.g. 8888.\n",
    "            \n",
    "    Returns:\n",
    "        list of dicts {kernel_id: notebook kernel id, path: path to notebook file}.\n",
    "    \"\"\"\n",
    "        \n",
    "    BASE_URL = 'http://{0}:{1}/'.format(host, port)\n",
    "        \n",
    "    # Get the cookie data\n",
    "    s = requests.Session()\n",
    "    url = BASE_URL + 'login?next=%2F'\n",
    "    resp = s.get(url)\n",
    "    xsrf_cookie = resp.cookies['_xsrf']\n",
    "\n",
    "    # Login with the password\n",
    "    params = {'_xsrf': xsrf_cookie, 'password': password}\n",
    "    res = s.post(url, data=params)\n",
    "\n",
    "    # Find which kernel corresponds to which notebook\n",
    "    # by querying the notebook server api for sessions\n",
    "    url = posixpath.join(BASE_URL, 'api', 'sessions')\n",
    "    ret = s.get(url)\n",
    "    #print('Status code:', ret.status_code)\n",
    "\n",
    "    # Get the notebook list\n",
    "    res = json.loads(ret.text)\n",
    "    notebooks = [{'kernel_id': notebook['kernel']['id'],\n",
    "                  'path': notebook['notebook']['path']} for notebook in res]\n",
    "    return notebooks\n"
   ]
  },
  {
   "cell_type": "code",
   "execution_count": 6,
   "metadata": {},
   "outputs": [
    {
     "ename": "KeyError",
     "evalue": "'notebook'",
     "output_type": "error",
     "traceback": [
      "\u001b[1;31m---------------------------------------------------------------------------\u001b[0m",
      "\u001b[1;31mKeyError\u001b[0m                                  Traceback (most recent call last)",
      "\u001b[1;32m<ipython-input-6-de4a4792ea03>\u001b[0m in \u001b[0;36m<module>\u001b[1;34m\u001b[0m\n\u001b[1;32m----> 1\u001b[1;33m \u001b[0mget_running_notebooks\u001b[0m\u001b[1;33m(\u001b[0m\u001b[1;34m'localhost'\u001b[0m\u001b[1;33m,\u001b[0m \u001b[1;34m'8888'\u001b[0m\u001b[1;33m,\u001b[0m \u001b[1;34m'3593e60e2346b68e3e6fcaff17eefef9b138c362a2d2e19c'\u001b[0m\u001b[1;33m)\u001b[0m\u001b[1;33m\u001b[0m\u001b[1;33m\u001b[0m\u001b[0m\n\u001b[0m",
      "\u001b[1;32m<ipython-input-3-8c42e387ea7d>\u001b[0m in \u001b[0;36mget_running_notebooks\u001b[1;34m(host, port, password)\u001b[0m\n\u001b[0;32m     33\u001b[0m     \u001b[1;31m# Get the notebook list\u001b[0m\u001b[1;33m\u001b[0m\u001b[1;33m\u001b[0m\u001b[1;33m\u001b[0m\u001b[0m\n\u001b[0;32m     34\u001b[0m     \u001b[0mres\u001b[0m \u001b[1;33m=\u001b[0m \u001b[0mjson\u001b[0m\u001b[1;33m.\u001b[0m\u001b[0mloads\u001b[0m\u001b[1;33m(\u001b[0m\u001b[0mret\u001b[0m\u001b[1;33m.\u001b[0m\u001b[0mtext\u001b[0m\u001b[1;33m)\u001b[0m\u001b[1;33m\u001b[0m\u001b[1;33m\u001b[0m\u001b[0m\n\u001b[1;32m---> 35\u001b[1;33m     notebooks = [{'kernel_id': notebook['kernel']['id'],\n\u001b[0m\u001b[0;32m     36\u001b[0m                   'path': notebook['notebook']['path']} for notebook in res]\n\u001b[0;32m     37\u001b[0m     \u001b[1;32mreturn\u001b[0m \u001b[0mnotebooks\u001b[0m\u001b[1;33m\u001b[0m\u001b[1;33m\u001b[0m\u001b[0m\n",
      "\u001b[1;32m<ipython-input-3-8c42e387ea7d>\u001b[0m in \u001b[0;36m<listcomp>\u001b[1;34m(.0)\u001b[0m\n\u001b[0;32m     34\u001b[0m     \u001b[0mres\u001b[0m \u001b[1;33m=\u001b[0m \u001b[0mjson\u001b[0m\u001b[1;33m.\u001b[0m\u001b[0mloads\u001b[0m\u001b[1;33m(\u001b[0m\u001b[0mret\u001b[0m\u001b[1;33m.\u001b[0m\u001b[0mtext\u001b[0m\u001b[1;33m)\u001b[0m\u001b[1;33m\u001b[0m\u001b[1;33m\u001b[0m\u001b[0m\n\u001b[0;32m     35\u001b[0m     notebooks = [{'kernel_id': notebook['kernel']['id'],\n\u001b[1;32m---> 36\u001b[1;33m                   'path': notebook['notebook']['path']} for notebook in res]\n\u001b[0m\u001b[0;32m     37\u001b[0m     \u001b[1;32mreturn\u001b[0m \u001b[0mnotebooks\u001b[0m\u001b[1;33m\u001b[0m\u001b[1;33m\u001b[0m\u001b[0m\n",
      "\u001b[1;31mKeyError\u001b[0m: 'notebook'"
     ]
    }
   ],
   "source": [
    "get_running_notebooks('localhost', '8888', '3593e60e2346b68e3e6fcaff17eefef9b138c362a2d2e19c')"
   ]
  },
  {
   "cell_type": "code",
   "execution_count": null,
   "metadata": {},
   "outputs": [],
   "source": []
  }
 ],
 "metadata": {
  "kernelspec": {
   "display_name": "Python 3",
   "language": "python",
   "name": "python3"
  },
  "language_info": {
   "codemirror_mode": {
    "name": "ipython",
    "version": 3
   },
   "file_extension": ".py",
   "mimetype": "text/x-python",
   "name": "python",
   "nbconvert_exporter": "python",
   "pygments_lexer": "ipython3",
   "version": "3.8.5"
  }
 },
 "nbformat": 4,
 "nbformat_minor": 4
}
