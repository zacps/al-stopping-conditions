{
 "cells": [
  {
   "cell_type": "markdown",
   "metadata": {},
   "source": [
    "## All datasets"
   ]
  },
  {
   "cell_type": "code",
   "execution_count": 4,
   "metadata": {},
   "outputs": [],
   "source": [
    "import warnings\n",
    "from importlib import reload\n",
    "from functools import partial, lru_cache\n",
    "import itertools\n",
    "from time import monotonic\n",
    "\n",
    "import numpy as np\n",
    "import pandas as pd\n",
    "import matplotlib.pyplot as plt\n",
    "from sklearn import datasets, svm, metrics\n",
    "from sklearn.model_selection import train_test_split\n",
    "from tqdm.auto import tqdm, trange\n",
    "from joblib import delayed\n",
    "from modAL import batch\n",
    "from art.metrics import empirical_robustness\n",
    "from art.attacks.evasion import *\n",
    "from sklearn.metrics import accuracy_score, f1_score, roc_auc_score\n",
    "from tabulate import tabulate\n",
    "from art.estimators.classification.scikitlearn import ScikitlearnSVC\n",
    "from sklearn.metrics.pairwise import paired_distances, euclidean_distances\n",
    "import scipy\n",
    "from tvregdiff.tvregdiff import TVRegDiff\n",
    "\n",
    "from ipynb.fs.defs import Bias\n",
    "from ipynb.fs.defs.Datasets import generateData_twoPills_2D, generateData_twoPills_noNoise_2D, plot_dataset_2D\n",
    "import ipywidgets as widgets\n",
    "from ipywidgets import interact\n",
    "\n",
    "import libactive\n",
    "import libadversarial\n",
    "import libstop\n",
    "from libactive import MyActiveLearner, active_split\n",
    "from libadversarial import adversarial, uncertainty, random_batch, uncertainty_stop\n",
    "from libutil import ProgressParallel\n",
    "from libdatasets import *\n",
    "import librun\n",
    "from librun import run"
   ]
  },
  {
   "cell_type": "code",
   "execution_count": 110,
   "metadata": {},
   "outputs": [],
   "source": [
    "import libdatasets; reload(libdatasets); from libdatasets import *"
   ]
  },
  {
   "cell_type": "code",
   "execution_count": 111,
   "metadata": {},
   "outputs": [],
   "source": [
    "def wrap(func, *args, **kwargs):\n",
    "    wrapper = lambda: lru_cache()(func)(*args, **kwargs)\n",
    "    for attr in [attr for attr in dir(func) if not attr.startswith('__')]:\n",
    "        setattr(wrapper, attr, getattr(func, attr))\n",
    "    return wrapper"
   ]
  },
  {
   "cell_type": "code",
   "execution_count": 112,
   "metadata": {},
   "outputs": [],
   "source": [
    "matrix = {\n",
    "    # Dataset fetchers should cache if possible\n",
    "    # Lambda wrapper required for function to be pickleable (sent to other threads via joblib)\n",
    "    \"datasets\": [\n",
    "        #(\"banknote\", wrap(banknote, None)), too few instances\n",
    "        #(\"haberman\", wrap(haberman, None)), too few instances\n",
    "        #(\"digits\", wrap(digits)), too few instances\n",
    "        (\"abalone\", wrap(abalone, None)),\n",
    "        #(\"car\", wrap(car, None)), too few instances\n",
    "        (\"cardio\", wrap(cardio, None)),\n",
    "        (\"shuttle\", wrap(shuttle, None)),\n",
    "        (\"skin\", wrap(skin, None)),\n",
    "        #(\"german\", wrap(german, None)), too few instances\n",
    "        #(\"sonar\", wrap(sonar, None)), too few instances\n",
    "        (\"splice\", wrap(splice, None)),\n",
    "        #(\"bbbp\", wrap(bbbp, None)), too few instances\n",
    "        (\"hiv\", wrap(hiv, None)),\n",
    "        (\"mutagen\", wrap(mutagen, None)),\n",
    "        #(\"MUV\", wrap(MUV, None)),\n",
    "        #(\"sider\", wrap(sider, None)),\n",
    "        #(\"tox21\", wrap(tox21, None)),\n",
    "        (\"mnist\", wrap(mnist, None)),\n",
    "        (\"quickdraw\", wrap(quickdraw, None)),\n",
    "        (\"newsgroups\", wrap(newsgroups, None)),\n",
    "        #(\"reuters21578\", wrap(reuters21578, None)), Preprocessing not done\n",
    "        (\"rcv1\", wrap(rcv1, None)),\n",
    "        (\"cifar10\", wrap(cifar10, None)),\n",
    "        #(\"higgs\", wrap(higgs, None)), Very large and difficult to deal with\n",
    "        (\"webkb\", wrap(webkb, None)),\n",
    "        (\"spamassassin\", wrap(spamassassin, None)),\n",
    "        (\"smartphone\", wrap(smartphone, None)),\n",
    "        (\"covertype\", wrap(covertype, None)),\n",
    "        (\"htru2\", wrap(htru2, None)),\n",
    "        #(\"malware\", wrap(malware, None)), Fit has failed to complete/converge before\n",
    "        (\"bidding\", wrap(bidding, None)),\n",
    "        (\"swarm\", wrap(swarm, None)),\n",
    "        (\"bank\", wrap(bank, None)),\n",
    "        (\"anuran\", wrap(anuran, None)),\n",
    "        (\"avila\", wrap(avila, None)),\n",
    "        (\"coral\", wrap(coral, None)),\n",
    "        (\"buzz_th\", wrap(buzz, \"th\", None)),\n",
    "        (\"buzz_th\", wrap(buzz, \"th\", None)),\n",
    "        (\"sensorless\", wrap(sensorless, None)),\n",
    "        (\"dota2\", wrap(dota2, None)),\n",
    "        (\"gas\", wrap(gas, None)), \n",
    "    ],\n",
    "    \"dataset_mutators\": {\n",
    "        \"none\": (lambda *x, **kwargs: x),\n",
    "    },\n",
    "    \"methods\": [\n",
    "        (\"uncertainty\", partial(uncertainty_stop, n_instances=10)),\n",
    "    ],\n",
    "    \"models\": [\n",
    "        \"svm-linear\"\n",
    "    ],\n",
    "    \"meta\": {\n",
    "        \"dataset_size\": 1000,\n",
    "        \"labelled_size\": 10,\n",
    "        \"test_size\": {\n",
    "            \"newsgroups_faith\": 500,\n",
    "            \"newsgroups_graphics\": 500,\n",
    "            \"newsgroups_hardware\": 500,\n",
    "            \"newsgroups_sports_crypto\": 500,\n",
    "            \"*\": 0.5\n",
    "        },\n",
    "        \"n_runs\": 10,\n",
    "        \"ret_classifiers\": True,\n",
    "        \"ensure_y\": True,\n",
    "        \"stop_info\": True,\n",
    "        \"aggregate\": False,\n",
    "        \"stop_function\": (\"len1000\", lambda learner: learner.y_training.shape[0] >= 1000),\n",
    "    }\n",
    "}"
   ]
  },
  {
   "cell_type": "code",
   "execution_count": 113,
   "metadata": {},
   "outputs": [
    {
     "name": "stdout",
     "output_type": "stream",
     "text": [
      "Dataset         Instances    Classes    Features  Most common class           Least common class    Domain\n",
      "------------  -----------  ---------  ----------  --------------------------  --------------------  --------\n",
      "banknote             1372          2           5  0 56%                       1 44%                 general\n",
      "haberman             1372          2           4  0 56%                       1 44%                 general\n",
      "digits               1797         10          64  3 10%                       8 10%                 general\n",
      "abalone              4177          3           8  M 37%                       F 31%                 general\n",
      "car                  1728          4           7  unacc 70%                   vgood 4%              general\n",
      "cardio              70000          2           3  0 50%                       1 50%                 general\n",
      "shuttle             58000          2          10  True 79%                    False 21%             general\n",
      "skin               245057          2           3  2 79%                       1 21%                 general\n",
      "german               1000          2          24  1 70%                       2 30%                 general\n",
      "sonar                 208          2          60  M 53%                       R 47%                 general\n",
      "splice               3190          3         287  N 52%                       EI 24%                general\n",
      "bbbp                 2003          2         512  1 77%                       0 23%                 general\n",
      "hiv                 40256          2         512  0 97%                       1 3%                  general\n",
      "mutagen              6431          2         512  1 54%                       0 46%                 general\n",
      "mnist               70000         10         784  1 11%                       5 9%                  image\n",
      "quickdraw          556217          4         784  4 29%                       2 22%                 image\n",
      "newsgroups          18846         20      125145  10 5%                       19 3%                 nlp\n",
      "rcv1               804414          2       47236  0 53%                       1 47%                 nlp\n",
      "cifar10             60000         10        3072  0 10%                       0 10%                 image\n",
      "webkb                4199          4       22981  student 39%                 project 12%           nlp\n",
      "spamassassin         6051          2       50196  ham 69%                     spam 31%              nlp\n",
      "smartphone          10927         12         561  5 18%                       8 0%                  general\n",
      "covertype          581012          7          54  2 49%                       4 0%                  general\n",
      "htru2               17898          2           8  0 91%                       1 9%                  physical\n",
      "bidding              6321          2       20719  0 89%                       1 11%                 general\n",
      "swarm               24015          2        2400  0 50%                       1 50%                 general\n",
      "bank                45211          2        9541  no 88%                      yes 12%               general\n",
      "anuran               7195         10          22  AdenomeraHylaedactylus 48%  Rhinellagranulosa 1%  general\n",
      "avila               20867         12          10  A 41%                       B 0%                  general\n",
      "coral                5665        102          16  D_M 9%                      Abd 0%                general\n",
      "buzz_th              7905          2          96  1.0 61%                     0.0 39%               general\n",
      "buzz_th              7905          2          96  1.0 61%                     0.0 39%               general\n",
      "sensorless          58509         11          48  1 9%                        1 9%                  general\n",
      "dota2              102944          2         116  1 53%                       -1 47%                general\n",
      "gas                 13910          6         128  5.0 22%                     3.0 12%               general\n"
     ]
    }
   ],
   "source": [
    "libdatasets.dataset_summary([data[0] for data in matrix['datasets']], [data[1] for data in matrix['datasets']])"
   ]
  },
  {
   "cell_type": "code",
   "execution_count": 61,
   "metadata": {},
   "outputs": [],
   "source": [
    "X,y=splice(None)"
   ]
  },
  {
   "cell_type": "code",
   "execution_count": 62,
   "metadata": {},
   "outputs": [
    {
     "data": {
      "text/plain": [
       "scipy.sparse.csr.csr_matrix"
      ]
     },
     "execution_count": 62,
     "metadata": {},
     "output_type": "execute_result"
    }
   ],
   "source": [
    "type(X)"
   ]
  },
  {
   "cell_type": "code",
   "execution_count": 63,
   "metadata": {},
   "outputs": [
    {
     "data": {
      "text/plain": [
       "(3190, 287)"
      ]
     },
     "execution_count": 63,
     "metadata": {},
     "output_type": "execute_result"
    }
   ],
   "source": [
    "X.shape"
   ]
  },
  {
   "cell_type": "code",
   "execution_count": null,
   "metadata": {},
   "outputs": [],
   "source": []
  }
 ],
 "metadata": {
  "kernelspec": {
   "display_name": "Python 3",
   "language": "python",
   "name": "python3"
  },
  "language_info": {
   "codemirror_mode": {
    "name": "ipython",
    "version": 3
   },
   "file_extension": ".py",
   "mimetype": "text/x-python",
   "name": "python",
   "nbconvert_exporter": "python",
   "pygments_lexer": "ipython3",
   "version": "3.8.5"
  }
 },
 "nbformat": 4,
 "nbformat_minor": 4
}
