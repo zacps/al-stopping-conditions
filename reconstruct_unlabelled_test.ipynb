{
 "cells": [
  {
   "cell_type": "code",
   "execution_count": 2,
   "id": "b0d66588",
   "metadata": {},
   "outputs": [
    {
     "data": {
      "text/plain": [
       "True"
      ]
     },
     "execution_count": 2,
     "metadata": {},
     "output_type": "execute_result"
    }
   ],
   "source": [
    "import libdatasets\n",
    "from libactive import active_split\n",
    "from libdatasets import *\n",
    "import librun\n",
    "import libstop\n",
    "from sklearn.utils import check_random_state\n",
    "from libadversarial import uncertainty_stop\n",
    "from libstop import rank_stop_conds, reconstruct_unlabelled\n",
    "from dotenv import load_dotenv\n",
    "\n",
    "load_dotenv()"
   ]
  },
  {
   "cell_type": "code",
   "execution_count": 64,
   "id": "6040c864",
   "metadata": {},
   "outputs": [
    {
     "name": "stdout",
     "output_type": "stream",
     "text": [
      "['/home/zac/.cache/pypoetry/virtualenvs/research-vDwbEF2m-py3.8/lib/python3.8/site-packages/ipykernel_launcher.py', '-f', '/home/zac/.local/share/jupyter/runtime/kernel-9df04daa-8eec-4a21-a6f2-c6c011d89bb8.json']\n"
     ]
    },
    {
     "data": {
      "text/html": [
       "\n",
       "        <style>\n",
       "        .p-Widget.jp-OutputPrompt.jp-OutputArea-prompt:empty {\n",
       "        padding: 0;\n",
       "        border: 0;\n",
       "        }\n",
       "        .p-Widget.jp-RenderedText.jp-OutputArea-output pre:empty {\n",
       "        display: none;\n",
       "        }\n",
       "        </style>\n",
       "        "
      ],
      "text/plain": [
       "<IPython.core.display.HTML object>"
      ]
     },
     "metadata": {},
     "output_type": "display_data"
    },
    {
     "data": {
      "application/vnd.jupyter.widget-view+json": {
       "model_id": "",
       "version_major": 2,
       "version_minor": 0
      },
      "text/plain": [
       "Experiment:   0%|          | 0/4 [00:00<?, ?it/s]"
      ]
     },
     "metadata": {},
     "output_type": "display_data"
    }
   ],
   "source": [
    "matrix = {\n",
    "    # Dataset fetchers should cache if possible\n",
    "    # Lambda wrapper required for function to be pickleable (sent to other threads via joblib)\n",
    "    \"datasets\": [\n",
    "        # These passed (without sparse equality check)\n",
    "        #(\"rcv1\", wrap(rcv1, None)),\n",
    "        #(\"webkb\", wrap(webkb, None)),\n",
    "        #(\"spamassassin\", wrap(spamassassin, None)),\n",
    "        \n",
    "        #(\"avila\", wrap(avila, None)),\n",
    "        #(\"smartphone\", wrap(smartphone, None)),\n",
    "        (\"swarm\", wrap(swarm, None)),\n",
    "        (\"sensorless\", wrap(sensorless, None)),\n",
    "        (\"splice\", wrap(splice, None)),\n",
    "        (\"anuran\", wrap(anuran, None)),\n",
    "    ],\n",
    "    \"dataset_mutators\": {\n",
    "        \"none\": (lambda *x, **kwargs: x),\n",
    "    },\n",
    "    \"methods\": [\n",
    "        (\"uncertainty\", partial(uncertainty_stop, n_instances=10)),\n",
    "    ],\n",
    "    \"models\": [\n",
    "        \"svm-linear\",\n",
    "        #\"random-forest\",\n",
    "    ],\n",
    "    \"meta\": {\n",
    "        \"dataset_size\": 1000,\n",
    "        \"labelled_size\": 10,\n",
    "        \"test_size\": 0.5,\n",
    "        \"n_runs\": 10,\n",
    "        \"ret_classifiers\": True,\n",
    "        \"ensure_y\": True,\n",
    "        \"stop_info\": True,\n",
    "        \"aggregate\": False,\n",
    "        \"stop_function\": (\n",
    "            \"len1000\",\n",
    "            lambda learner: learner.y_training.shape[0] >= 1000,\n",
    "        ),\n",
    "        \"pool_subsample\": 1000,\n",
    "    },\n",
    "}\n",
    "\n",
    "_results = librun.run(matrix, force_cache=True, fragment_run_start=0, fragment_run_end=9)\n",
    "results_plots = [result[0] for result in _results]\n",
    "classifiers = [result[1] for result in _results]\n",
    "classifiers = [clf for clf in classifiers]"
   ]
  },
  {
   "cell_type": "code",
   "execution_count": 67,
   "id": "ecd605d5",
   "metadata": {},
   "outputs": [
    {
     "name": "stdout",
     "output_type": "stream",
     "text": [
      "swarm\n",
      "  is dense\n",
      "  0\n",
      "   Initial size 11997\n",
      "  1\n",
      "   Initial size 11997\n",
      "  2\n",
      "   Initial size 11997\n",
      "  3\n",
      "   Initial size 11997\n",
      "  4\n",
      "   Initial size 11997\n",
      "  5\n",
      "   Initial size 11997\n",
      "  6\n",
      "   Initial size 11997\n",
      "  7\n",
      "   Initial size 11997\n",
      "  8\n",
      "   Initial size 11997\n",
      "  9\n",
      "   Initial size 11997\n",
      "sensorless\n",
      "  is dense\n",
      "  0\n",
      "   Initial size 29243\n",
      "  1\n",
      "   Initial size 29243\n",
      "  2\n",
      "   Initial size 29243\n",
      "  3\n",
      "   Initial size 29243\n",
      "  4\n",
      "   Initial size 29243\n",
      "  5\n",
      "   Initial size 29243\n",
      "  6\n",
      "   Initial size 29243\n",
      "  7\n",
      "   Initial size 29243\n",
      "  8\n",
      "   Initial size 29243\n",
      "  9\n",
      "   Initial size 29243\n",
      "splice\n",
      "  is sparse\n",
      "  0\n",
      "   Initial size 1585\n",
      "  1\n",
      "   Initial size 1585\n",
      "  2\n",
      "   Initial size 1585\n",
      "  3\n",
      "   Initial size 1585\n",
      "  4\n",
      "   Initial size 1585\n",
      "  5\n",
      "   Initial size 1585\n",
      "  6\n",
      "   Initial size 1585\n",
      "  7\n",
      "   Initial size 1585\n",
      "  8\n",
      "   Initial size 1585\n",
      "  9\n",
      "   Initial size 1585\n",
      "anuran\n",
      "  is dense\n",
      "  0\n",
      "   Initial size 3587\n",
      "  1\n",
      "   Initial size 3587\n",
      "  2\n",
      "   Initial size 3587\n",
      "  3\n",
      "   Initial size 3587\n",
      "  4\n",
      "   Initial size 3587\n",
      "  5\n",
      "   Initial size 3587\n",
      "  6\n",
      "   Initial size 3587\n",
      "  7\n",
      "   Initial size 3587\n",
      "  8\n",
      "   Initial size 3587\n",
      "  9\n",
      "   Initial size 3587\n"
     ]
    }
   ],
   "source": [
    "from importlib import reload; reload(libstop); from libstop import reconstruct_unlabelled\n",
    "for (conf, results), clfs in zip(results_plots, classifiers):\n",
    "    print(conf.dataset_name)\n",
    "    X, y = getattr(libdatasets, conf.dataset_name)(None)\n",
    "    print(\"  is sparse\" if isinstance(X, scipy.sparse.csr_matrix) else \"  is dense\")\n",
    "    \n",
    "    for i in conf.runs:\n",
    "        print(f\"  {i}\")\n",
    "        _, X_unlabelled, _, Y_oracle, _, _ = active_split(\n",
    "            X, y, labeled_size=conf.meta['labelled_size'], test_size=conf.meta['test_size'], random_state=check_random_state(i), ensure_y=conf.meta['ensure_y']\n",
    "        )\n",
    "        try:\n",
    "            size = None\n",
    "            for pool in reconstruct_unlabelled(clfs[i], X_unlabelled, Y_oracle, dense_atol=1e-1 if conf.dataset_name =='swarm' else 1e-6):\n",
    "                if size is None:\n",
    "                    size = pool.shape[0]\n",
    "                    print(f\"   Initial size {size}\")\n",
    "                else:\n",
    "                    assert pool.shape[0] == size-10, f\"{pool.shape[0]} == {size-10}\"\n",
    "                    size = pool.shape[0]\n",
    "        except Exception as e:\n",
    "            print(f'   FAILED: {e}')\n",
    "            raise e"
   ]
  },
  {
   "cell_type": "code",
   "execution_count": null,
   "id": "2e391e85",
   "metadata": {},
   "outputs": [],
   "source": [
    "clf.y_training"
   ]
  },
  {
   "cell_type": "code",
   "execution_count": 46,
   "id": "dcf03d38",
   "metadata": {},
   "outputs": [
    {
     "data": {
      "text/plain": [
       "array([[ 2.6607400e-01,  5.8024200e-01,  1.1470900e-01, -1.6546900e-01,\n",
       "         2.6171800e-01, -1.8340900e-01,  1.8242600e-01,  4.5164100e-01,\n",
       "         4.0708000e-01, -1.5086900e-01],\n",
       "       [-1.2892900e-01,  1.2655362e+01, -1.6269000e-01,  1.9930150e+00,\n",
       "        -3.2240300e+00, -5.8481600e-01, -6.1033300e-01,  7.6343200e-01,\n",
       "         1.1658290e+00, -1.5845200e-01],\n",
       "       [ 1.3029200e-01, -1.5776900e-01,  5.7704100e-01, -6.7098600e-01,\n",
       "         1.7234000e-01, -1.2630550e+00,  3.1425000e-02,  2.1826700e-01,\n",
       "         4.0708000e-01, -1.0523880e+00],\n",
       "       [-1.9064800e-01, -1.0920600e+00,  4.0277800e-01,  7.4942500e-01,\n",
       "         1.7234000e-01,  8.5471200e-01, -2.3282800e-01,  1.9261900e-01,\n",
       "         7.5007600e-01,  1.0322940e+00],\n",
       "       [-5.8565100e-01, -3.5404900e-01, -3.2105280e+00,  3.5651700e-01,\n",
       "         2.6171800e-01,  2.7336400e-01,  5.9768100e-01,  1.4125090e+00,\n",
       "         1.4048870e+00,  5.7323000e-02],\n",
       "       [ 5.6229000e-02, -9.4960000e-02,  2.2851400e-01, -6.5806600e-01,\n",
       "         1.7234000e-01,  6.0556300e-01,  8.6193400e-01, -2.5761920e+00,\n",
       "        -1.8068040e+00,  1.7375100e-01],\n",
       "       [-5.4866000e-02,  2.0338500e-01,  5.4250000e-02, -2.8782000e-02,\n",
       "         2.6171800e-01, -2.2493400e-01,  4.0892900e-01,  1.0449360e+00,\n",
       "         6.8771300e-01, -3.0290800e-01],\n",
       "       [ 1.9201100e-01,  1.4842700e-01,  1.9295000e-01, -1.2930800e+00,\n",
       "         2.6171800e-01, -1.6367790e+00, -6.3260000e-03, -7.9684800e-01,\n",
       "        -1.5418600e-01, -1.3764300e+00],\n",
       "       [ 7.1045300e-01, -2.8338800e-01,  1.2893500e-01,  6.0190500e-01,\n",
       "         9.7674300e-01, -1.0554310e+00, -9.8783700e-01,  7.8084800e-01,\n",
       "         1.6231570e+00, -2.9582000e-01],\n",
       "       [-3.4987990e+00, -6.3555000e-02,  7.4586810e+00,  1.2900200e-01,\n",
       "        -4.9222150e+00, -5.8835000e-02,  1.0884360e+00, -8.2845600e-01,\n",
       "        -3.4127500e-01, -4.8040800e-01],\n",
       "       [-1.5361700e-01, -8.4082200e-01,  1.3960400e-01, -9.7190300e-01,\n",
       "         1.7234000e-01, -5.9865800e-01,  6.3543100e-01, -1.6013640e+00,\n",
       "         5.6298700e-01, -7.2382600e-01],\n",
       "       [-6.3502700e-01, -4.4826300e-01,  2.9964200e-01,  1.4078610e+00,\n",
       "         1.7234000e-01, -4.7408300e-01, -2.0825990e+00,  1.3043260e+00,\n",
       "         1.7790650e+00,  1.0339210e+00]])"
      ]
     },
     "execution_count": 46,
     "metadata": {},
     "output_type": "execute_result"
    }
   ],
   "source": [
    "clf.X_training"
   ]
  },
  {
   "cell_type": "code",
   "execution_count": 51,
   "id": "37720613",
   "metadata": {},
   "outputs": [
    {
     "data": {
      "text/plain": [
       "(22, 10)"
      ]
     },
     "execution_count": 51,
     "metadata": {},
     "output_type": "execute_result"
    }
   ],
   "source": [
    "clf = clfs[i][1]\n",
    "clf.X_training.shape"
   ]
  },
  {
   "cell_type": "code",
   "execution_count": 52,
   "id": "8ef94f7b",
   "metadata": {},
   "outputs": [
    {
     "data": {
      "text/plain": [
       "(10421, 10)"
      ]
     },
     "execution_count": 52,
     "metadata": {},
     "output_type": "execute_result"
    }
   ],
   "source": [
    "X_unlabelled.shape"
   ]
  },
  {
   "cell_type": "code",
   "execution_count": 53,
   "id": "7fa32e57",
   "metadata": {},
   "outputs": [
    {
     "data": {
      "text/plain": [
       "(10421, 10)"
      ]
     },
     "execution_count": 53,
     "metadata": {},
     "output_type": "execute_result"
    }
   ],
   "source": [
    "X_unlabelled[\n",
    "    (X_unlabelled[:, np.newaxis] != clf.X_training).all(-1).any(-1)\n",
    "].copy().shape"
   ]
  },
  {
   "cell_type": "code",
   "execution_count": 56,
   "id": "9bf9b0cf",
   "metadata": {},
   "outputs": [
    {
     "data": {
      "text/plain": [
       "6239"
      ]
     },
     "execution_count": 56,
     "metadata": {},
     "output_type": "execute_result"
    }
   ],
   "source": [
    "np.count_nonzero(X_unlabelled == clf.X_training[0])"
   ]
  },
  {
   "cell_type": "code",
   "execution_count": null,
   "id": "7f16458a",
   "metadata": {},
   "outputs": [],
   "source": []
  }
 ],
 "metadata": {
  "kernelspec": {
   "display_name": "Python 3",
   "language": "python",
   "name": "python3"
  },
  "language_info": {
   "codemirror_mode": {
    "name": "ipython",
    "version": 3
   },
   "file_extension": ".py",
   "mimetype": "text/x-python",
   "name": "python",
   "nbconvert_exporter": "python",
   "pygments_lexer": "ipython3",
   "version": "3.8.8"
  }
 },
 "nbformat": 4,
 "nbformat_minor": 5
}
