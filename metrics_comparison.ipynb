{
 "cells": [
  {
   "cell_type": "code",
   "execution_count": 2,
   "metadata": {},
   "outputs": [],
   "source": [
    "from libdatasets import *\n",
    "import librun\n",
    "import libstop\n",
    "from importlib import reload\n",
    "from libadversarial import uncertainty_stop\n",
    "from libstop import rank_stop_conds\n",
    "from dotenv import load_dotenv; load_dotenv();\n",
    "import libactive; reload(libactive)\n",
    "import matplotlib.pyplot as plt\n",
    "import math"
   ]
  },
  {
   "cell_type": "code",
   "execution_count": 3,
   "metadata": {},
   "outputs": [],
   "source": [
    "matrix = {\n",
    "    # Dataset fetchers should cache if possible\n",
    "    # Lambda wrapper required for function to be pickleable (sent to other threads via joblib)\n",
    "    \"datasets\": [\n",
    "        #(\"anuran\", wrap(anuran, None)),\n",
    "        #(\"avila\", wrap(avila, None)),\n",
    "        #(\"covertype\", wrap(covertype, None)),\n",
    "        #(\"rcv1\", wrap(rcv1, None)),\n",
    "        #(\"sensorless\", wrap(sensorless, None)),\n",
    "        (\"spamassassin\", wrap(spamassassin, None)),\n",
    "        #(\"splice\", wrap(splice, None)),\n",
    "        #(\"swarm\", wrap(swarm, None)),\n",
    "        #(\"smartphone\", wrap(smartphone, None))\n",
    "    ],\n",
    "    \"dataset_mutators\": {\n",
    "        \"none\": (lambda *x, **kwargs: x),\n",
    "    },\n",
    "    \"methods\": [\n",
    "        (\"uncertainty\", partial(uncertainty_stop, n_instances=10)),\n",
    "    ],\n",
    "    \"models\": [\n",
    "        \"svm-linear\"\n",
    "    ],\n",
    "    \"meta\": {\n",
    "        \"dataset_size\": 1000,\n",
    "        \"labelled_size\": 10,\n",
    "        \"test_size\": 0.5,\n",
    "        \"n_runs\": 10,\n",
    "        \"ret_classifiers\": True,\n",
    "        \"ensure_y\": True,\n",
    "        \"stop_info\": True,\n",
    "        \"aggregate\": False,\n",
    "        \"stop_function\": (\"len1000\", lambda learner: learner.y_training.shape[0] >= 1000),\n",
    "        \"pool_subsample\": 1000\n",
    "    }\n",
    "}"
   ]
  },
  {
   "cell_type": "code",
   "execution_count": 4,
   "metadata": {},
   "outputs": [
    {
     "name": "stdout",
     "output_type": "stream",
     "text": [
      "['C:\\\\Users\\\\Zac\\\\AppData\\\\Local\\\\pypoetry\\\\Cache\\\\virtualenvs\\\\research-KKf5lz0r-py3.8\\\\lib\\\\site-packages\\\\ipykernel_launcher.py', '-f', 'C:\\\\Users\\\\Zac\\\\AppData\\\\Roaming\\\\jupyter\\\\runtime\\\\kernel-42c7ef92-f304-4209-9c54-26280827d878.json']\n"
     ]
    },
    {
     "data": {
      "text/html": [
       "\n",
       "        <style>\n",
       "        .p-Widget.jp-OutputPrompt.jp-OutputArea-prompt:empty {\n",
       "        padding: 0;\n",
       "        border: 0;\n",
       "        }\n",
       "        .p-Widget.jp-RenderedText.jp-OutputArea-output pre:empty {\n",
       "        display: none;\n",
       "        }\n",
       "        </style>\n",
       "        "
      ],
      "text/plain": [
       "<IPython.core.display.HTML object>"
      ]
     },
     "metadata": {},
     "output_type": "display_data"
    },
    {
     "data": {
      "application/vnd.jupyter.widget-view+json": {
       "model_id": "",
       "version_major": 2,
       "version_minor": 0
      },
      "text/plain": [
       "Experiment:   0%|          | 0/1 [00:00<?, ?it/s]"
      ]
     },
     "metadata": {},
     "output_type": "display_data"
    }
   ],
   "source": [
    "results = librun.run(matrix, force_cache=True, fragment_run_start=0, fragment_run_end=1)\n",
    "results_plots = [result[0] for result in results]\n",
    "classifiers = [result[1] for result in results]\n",
    "classifiers = [clf for clf in classifiers]"
   ]
  },
  {
   "cell_type": "code",
   "execution_count": 11,
   "metadata": {},
   "outputs": [],
   "source": [
    "reload(libstop); from libstop import *\n",
    "def acc_wrapper(**kwargs):\n",
    "    x, diffs = first_acc(**kwargs)\n",
    "    return [np.nan] +diffs\n",
    "metrics = ['uncertainty_variance', 'uncertainty_variance_selected', 'uncertainty_average', \n",
    "           \"n_support\", \"entropy_max\", \"expected_error_min\", kappa_metric, acc_wrapper, SSNCut_values, fscore] # \n",
    "names = ['Uncertainty Variance', 'Queried Uncertainty Variance', 'Mean Uncertainty', '# support vectors', 'Max entropy', 'Min Expected Error', 'Kappa Agreement', 'First Accuracy', 'Clustering Agreement', 'Estimated F-score']\n",
    "\n",
    "metrics = [lambda *args, **kwargs: list(fscore(*args, **kwargs))] # \n",
    "names = ['Estimated F-score']"
   ]
  },
  {
   "cell_type": "code",
   "execution_count": 13,
   "metadata": {},
   "outputs": [
    {
     "name": "stdout",
     "output_type": "stream",
     "text": [
      "[[0.66666667 0.66666667 0.66666667 0.66666667 0.66666667 0.66666667\n",
      "  0.66666667 0.66666667 0.66666667 0.66666667 0.66666667 0.66666667\n",
      "  0.66666667 0.66666667 0.66666667 0.66666667 0.66666667 0.66666667\n",
      "  0.66666667 0.66666667 0.66666667 0.66666667 0.66666667 0.66666667\n",
      "  0.66666667 0.66666667 0.66666667 0.66666667 0.66666667 0.66666667\n",
      "  0.66666667 0.66666667 0.66666667 0.66666667 0.66666667 0.66666667\n",
      "  0.66666667 0.66666667 0.66666667 0.66666667 0.66666667 0.66666667\n",
      "  0.66666667 0.66666667 0.66666667 0.66666667 0.66666667 0.66666667\n",
      "  0.66666667 0.66666667 0.66666667 0.66666667 0.66666667 0.66666667\n",
      "  0.66666667 0.66666667 0.66666667 0.66666667 0.66666667 0.66666667\n",
      "  0.66666667 0.66666667 0.66666667 0.66666667 0.66666667 0.66666667\n",
      "  0.66666667 0.66666667 0.66666667 0.66666667 0.66666667 0.66666667\n",
      "  0.66666667 0.66666667 0.66666667 0.66666667 0.66666667 0.66666667\n",
      "  0.66666667 0.66666667 0.66666667 0.66666667 0.66666667 0.66666667\n",
      "  0.66666667 0.66666667 0.66666667 0.66666667 0.66666667 0.66666667\n",
      "  0.66666667 0.66666667 0.66666667 0.66666667 0.66666667 0.66666667\n",
      "  0.66666667 0.66666667 0.66666667 0.66666667]\n",
      " [0.66666667 0.66666667 0.66666667 0.66666667 0.66666667 0.66666667\n",
      "  0.66666667 0.66666667 0.66666667 0.66666667 0.66666667 0.66666667\n",
      "  0.66666667 0.66666667 0.66666667 0.66666667 0.66666667 0.66666667\n",
      "  0.66666667 0.66666667 0.66666667 0.66666667 0.66666667 0.66666667\n",
      "  0.66666667 0.66666667 0.66666667 0.66666667 0.66666667 0.66666667\n",
      "  0.66666667 0.66666667 0.66666667 0.66666667 0.66666667 0.66666667\n",
      "  0.66666667 0.66666667 0.66666667 0.66666667 0.66666667 0.66666667\n",
      "  0.66666667 0.66666667 0.66666667 0.66666667 0.66666667 0.66666667\n",
      "  0.66666667 0.66666667 0.66666667 0.66666667 0.66666667 0.66666667\n",
      "  0.66666667 0.66666667 0.66666667 0.66666667 0.66666667 0.66666667\n",
      "  0.66666667 0.66666667 0.66666667 0.66666667 0.66666667 0.66666667\n",
      "  0.66666667 0.66666667 0.66666667 0.66666667 0.66666667 0.66666667\n",
      "  0.66666667 0.66666667 0.66666667 0.66666667 0.66666667 0.66666667\n",
      "  0.66666667 0.66666667 0.66666667 0.66666667 0.66666667 0.66666667\n",
      "  0.66666667 0.66666667 0.66666667 0.66666667 0.66666667 0.66666667\n",
      "  0.66666667 0.66666667 0.66666667 0.66666667 0.66666667 0.66666667\n",
      "  0.66666667 0.66666667 0.66666667 0.66666667]]\n"
     ]
    },
    {
     "data": {
      "image/png": "[encoded data removed]",
      "text/plain": [
       "<Figure size 1152x432 with 11 Axes>"
      ]
     },
     "metadata": {
      "needs_background": "light"
     },
     "output_type": "display_data"
    }
   ],
   "source": [
    "fig, axes = plt.subplots(2, 5, figsize=(16,6))\n",
    "results = results_plots[0][1]\n",
    "conf = results_plots[0][0]\n",
    "cm = plt.cm.get_cmap('tab20b')\n",
    "for j, (metric, ax, name) in enumerate(zip(metrics, axes.flatten(), names)):\n",
    "    # Get unlabelled pool\n",
    "    X, y = getattr(libdatasets, conf.dataset_name)(None)\n",
    "    unlabelled_pools = []\n",
    "    y_oracles = []\n",
    "    # WARN: This is not the same as the job numbers! Unfortunately they're not easily accessible\n",
    "    for i in range(len(results)):\n",
    "        _, X_unlabelled, _, Y_oracle, _, _ = active_split(\n",
    "            X, y, labeled_size=conf.meta['labelled_size'], test_size=conf.meta['test_size'], random_state=check_random_state(i), ensure_y=conf.meta['ensure_y']\n",
    "        )\n",
    "        unlabelled_pools.append(X_unlabelled)\n",
    "        y_oracles.append(Y_oracle)\n",
    "    \n",
    "    if isinstance(metric, str):\n",
    "        values = np.array([results[i][metric] for i in range(len(results))])\n",
    "        ax.set_title(name)\n",
    "    else:\n",
    "        values = np.array([metric(**results[i], classifiers=classifiers[0][i], X_unlabelled=unlabelled_pools[i], Y_oracle=y_oracles[i]) for i in range(len(results))])\n",
    "        print(values)\n",
    "        ax.set_title(name)\n",
    "    ax.plot(results[0].x, np.mean(values, axis=0), label='Metric', color=cm.colors[0])\n",
    "    ax2 = ax.twinx()\n",
    "    ax2.plot(results[0].x, np.mean(np.array([results[i]['accuracy_score'] for i in range(len(results))]), axis=0), label='Accuracy', color=cm.colors[6])\n",
    "    ax2.set_ylabel('Accuracy')\n",
    "    \n",
    "    if j != 4 and j != 9:\n",
    "        ax2.axes.get_yaxis().set_visible(False)\n",
    "    \n",
    "    if j > 4:\n",
    "        ax.set_xlabel(\"Instances\")\n",
    "fig.tight_layout()"
   ]
  },
  {
   "cell_type": "code",
   "execution_count": 52,
   "metadata": {},
   "outputs": [],
   "source": [
    "fig.savefig('figures/metrics_comparison.png')"
   ]
  },
  {
   "cell_type": "code",
   "execution_count": 10,
   "metadata": {},
   "outputs": [
    {
     "data": {
      "text/plain": [
       "array(True)"
      ]
     },
     "execution_count": 10,
     "metadata": {},
     "output_type": "execute_result"
    }
   ],
   "source": [
    "np.isin(10, [0,1,2,10])"
   ]
  },
  {
   "cell_type": "code",
   "execution_count": 23,
   "metadata": {},
   "outputs": [],
   "source": [
    "mask = np.ones(5, dtype=bool)"
   ]
  },
  {
   "cell_type": "code",
   "execution_count": 31,
   "metadata": {},
   "outputs": [
    {
     "name": "stderr",
     "output_type": "stream",
     "text": [
      "<ipython-input-31-5d9c77e28f8f>:1: FutureWarning: Using a non-tuple sequence for multidimensional indexing is deprecated; use `arr[tuple(seq)]` instead of `arr[seq]`. In the future this will be interpreted as an array index, `arr[np.array(seq)]`, which will result either in an error or a different result.\n",
      "  np.array([1,2,3,4,5])[[[2]]]==np.array([1,2,3,4,5])[[2]]\n"
     ]
    },
    {
     "data": {
      "text/plain": [
       "array([ True])"
      ]
     },
     "execution_count": 31,
     "metadata": {},
     "output_type": "execute_result"
    }
   ],
   "source": [
    "np.array([1,2,3,4,5])[[[2]]]==np.array([1,2,3,4,5])[[2]]"
   ]
  },
  {
   "cell_type": "code",
   "execution_count": null,
   "metadata": {},
   "outputs": [],
   "source": []
  }
 ],
 "metadata": {
  "kernelspec": {
   "display_name": "venv",
   "language": "python",
   "name": "venv"
  },
  "language_info": {
   "codemirror_mode": {
    "name": "ipython",
    "version": 3
   },
   "file_extension": ".py",
   "mimetype": "text/x-python",
   "name": "python",
   "nbconvert_exporter": "python",
   "pygments_lexer": "ipython3",
   "version": "3.8.5"
  }
 },
 "nbformat": 4,
 "nbformat_minor": 4
}
