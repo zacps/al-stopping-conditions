{
 "cells": [
  {
   "cell_type": "code",
   "execution_count": 6,
   "id": "2a821710-7827-40d1-bd0a-1aa23aa92750",
   "metadata": {},
   "outputs": [],
   "source": [
    "import numpy as np\n",
    "from tvregdiff.tvregdiff import TVRegDiff"
   ]
  },
  {
   "cell_type": "code",
   "execution_count": 40,
   "id": "ecccf52c-4e90-4ca0-91cd-cbe43bbfce6c",
   "metadata": {},
   "outputs": [],
   "source": [
    "def no_ahead_tvregdiff(value, *args, **kwargs):\n",
    "    # Filter out leading NaNs before running TVRegDiff, it propagates but we want to ignore (but keep in output)\n",
    "    first_nonnan = np.argmax(~np.isnan(value))\n",
    "    \n",
    "    # The first two values are nan regardless as we need to evaluate on shape of at least 2\n",
    "    out = [np.nan]*(2+first_nonnan)\n",
    "    for i in range(first_nonnan+2, len(value)):\n",
    "        print(f\"evaluating {value[first_nonnan:i]}\")\n",
    "        out.append(TVRegDiff(value[first_nonnan:i], *args, **kwargs)[-1])\n",
    "    return out"
   ]
  },
  {
   "cell_type": "code",
   "execution_count": 37,
   "id": "c035a504-283c-4891-a57f-9ca3b50a5351",
   "metadata": {},
   "outputs": [
    {
     "name": "stdout",
     "output_type": "stream",
     "text": [
      "In shape (10,)\n",
      "In [ 1  2  3  4  5  6  7  8  9 10]\n",
      "evaluating [1 2]\n",
      "evaluating [1 2 3]\n",
      "evaluating [1 2 3 4]\n",
      "evaluating [1 2 3 4 5]\n",
      "evaluating [1 2 3 4 5 6]\n",
      "evaluating [1 2 3 4 5 6 7]\n",
      "evaluating [1 2 3 4 5 6 7 8]\n",
      "evaluating [1 2 3 4 5 6 7 8 9]\n",
      "Out shape 10\n"
     ]
    },
    {
     "data": {
      "text/plain": [
       "[nan, nan, 2.0, 3.0, 4.0, 5.0, 6.0, 7.0, 8.0, 9.0]"
      ]
     },
     "execution_count": 37,
     "metadata": {},
     "output_type": "execute_result"
    }
   ],
   "source": [
    "array = np.array([\n",
    "    1,2,3,4,5,6,7,8,9,10\n",
    "])\n",
    "print(\"In shape\", array.shape)\n",
    "print(\"In\", array)\n",
    "out = no_ahead_tvregdiff(array, 1, 1e-1, diagflag=False, plotflag=False)\n",
    "print(\"Out shape\", len(out))\n",
    "out"
   ]
  },
  {
   "cell_type": "code",
   "execution_count": 39,
   "id": "6d46d0fa-a8de-4f81-9b28-806685f93bf4",
   "metadata": {},
   "outputs": [
    {
     "name": "stdout",
     "output_type": "stream",
     "text": [
      "In shape (11,)\n",
      "In [nan  1.  2.  3.  4.  5.  6.  7.  8.  9. 10.]\n",
      "evaluating [1. 2.]\n",
      "evaluating [1. 2. 3.]\n",
      "evaluating [1. 2. 3. 4.]\n",
      "evaluating [1. 2. 3. 4. 5.]\n",
      "evaluating [1. 2. 3. 4. 5. 6.]\n",
      "evaluating [1. 2. 3. 4. 5. 6. 7.]\n",
      "evaluating [1. 2. 3. 4. 5. 6. 7. 8.]\n",
      "evaluating [1. 2. 3. 4. 5. 6. 7. 8. 9.]\n",
      "Out shape 11\n"
     ]
    },
    {
     "data": {
      "text/plain": [
       "[nan, nan, nan, 2.0, 3.0, 4.0, 5.0, 6.0, 7.0, 8.0, 9.0]"
      ]
     },
     "execution_count": 39,
     "metadata": {},
     "output_type": "execute_result"
    }
   ],
   "source": [
    "array = np.array([\n",
    "    np.nan,1,2,3,4,5,6,7,8,9,10\n",
    "])\n",
    "print(\"In shape\", array.shape)\n",
    "print(\"In\", array)\n",
    "out = no_ahead_tvregdiff(array, 1, 1e-1, diagflag=False, plotflag=False)\n",
    "print(\"Out shape\", len(out))\n",
    "out"
   ]
  },
  {
   "cell_type": "code",
   "execution_count": 20,
   "id": "424687e6-42ed-4307-8d02-ad2fd53d3a83",
   "metadata": {},
   "outputs": [
    {
     "data": {
      "text/plain": [
       "3"
      ]
     },
     "execution_count": 20,
     "metadata": {},
     "output_type": "execute_result"
    }
   ],
   "source": [
    "np.argmax(~np.isnan(np.array([np.nan, np.nan, np.nan, 1,2,23,5,3,1])))"
   ]
  },
  {
   "cell_type": "code",
   "execution_count": 21,
   "id": "cb30e51f-76f7-4bee-b0eb-e4650f53ef78",
   "metadata": {},
   "outputs": [
    {
     "data": {
      "text/plain": [
       "array([ 1.,  2., 23.,  5.,  3.,  1.])"
      ]
     },
     "execution_count": 21,
     "metadata": {},
     "output_type": "execute_result"
    }
   ],
   "source": [
    "np.array([np.nan, np.nan, np.nan, 1,2,23,5,3,1])[3:]"
   ]
  },
  {
   "cell_type": "code",
   "execution_count": null,
   "id": "5dd5063f-540f-4965-adfc-dcb44497b782",
   "metadata": {},
   "outputs": [],
   "source": []
  }
 ],
 "metadata": {
  "kernelspec": {
   "display_name": "Python 3",
   "language": "python",
   "name": "python3"
  },
  "language_info": {
   "codemirror_mode": {
    "name": "ipython",
    "version": 3
   },
   "file_extension": ".py",
   "mimetype": "text/x-python",
   "name": "python",
   "nbconvert_exporter": "python",
   "pygments_lexer": "ipython3",
   "version": "3.8.8"
  }
 },
 "nbformat": 4,
 "nbformat_minor": 5
}
