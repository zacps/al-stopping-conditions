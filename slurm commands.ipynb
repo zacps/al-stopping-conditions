{
 "cells": [
  {
   "cell_type": "code",
   "execution_count": 9,
   "metadata": {},
   "outputs": [],
   "source": [
    "datasets = ['newsgroups', 'rcv1', 'webkb', 'spamassassin',\n",
    "       'avila', 'smartphone', 'swarm', 'sensorless',\n",
    "       'splice', 'anuran']"
   ]
  },
  {
   "cell_type": "code",
   "execution_count": 10,
   "metadata": {},
   "outputs": [
    {
     "name": "stdout",
     "output_type": "stream",
     "text": [
      "poetry run python slurm.py newsgroups-nn 0 1 0-1 --mem 612M --time 0-00:02:00\n",
      "poetry run python slurm.py rcv1-nn 1 1 0-1 --mem 612M --time 0-00:02:00\n",
      "poetry run python slurm.py webkb-nn 2 1 0-1 --mem 612M --time 0-00:02:00\n",
      "poetry run python slurm.py spamassassin-nn 3 1 0-1 --mem 612M --time 0-00:02:00\n",
      "poetry run python slurm.py avila-nn 4 1 0-1 --mem 612M --time 0-00:02:00\n",
      "poetry run python slurm.py smartphone-nn 5 1 0-1 --mem 612M --time 0-00:02:00\n",
      "poetry run python slurm.py swarm-nn 6 1 0-1 --mem 612M --time 0-00:02:00\n",
      "poetry run python slurm.py sensorless-nn 7 1 0-1 --mem 612M --time 0-00:02:00\n",
      "poetry run python slurm.py splice-nn 8 1 0-1 --mem 612M --time 0-00:02:00\n",
      "poetry run python slurm.py anuran-nn 9 1 0-1 --mem 612M --time 0-00:02:00\n"
     ]
    }
   ],
   "source": [
    "for i, name in enumerate(datasets):\n",
    "    print(f\"poetry run python slurm.py {name}-nn {i} 1 0-1 --mem 612M --time 0-00:02:00\")"
   ]
  },
  {
   "cell_type": "code",
   "execution_count": null,
   "metadata": {},
   "outputs": [],
   "source": []
  }
 ],
 "metadata": {
  "kernelspec": {
   "display_name": "Python 3",
   "language": "python",
   "name": "python3"
  },
  "language_info": {
   "codemirror_mode": {
    "name": "ipython",
    "version": 3
   },
   "file_extension": ".py",
   "mimetype": "text/x-python",
   "name": "python",
   "nbconvert_exporter": "python",
   "pygments_lexer": "ipython3",
   "version": "3.8.5"
  }
 },
 "nbformat": 4,
 "nbformat_minor": 4
}
