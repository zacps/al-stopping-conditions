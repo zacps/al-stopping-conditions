{
 "cells": [
  {
   "cell_type": "code",
   "execution_count": 14,
   "id": "1ea27a95-bdf5-45e2-b22a-b4fbc2415cf3",
   "metadata": {},
   "outputs": [],
   "source": [
    "from libstore import CompressedStore\n",
    "store = CompressedStore(\"/home/zac/out/classifiers/rcv1__none__uncertainty__svm-linear__dataset_size=1000__labelled_size=100__test_size=0.5__n_runs=10__ret_classifiers=True__ensure_y=True__stop_info=True__aggregate=False__stop_function=len1000__pool_subsample=1000_13.zip\", read=True)"
   ]
  },
  {
   "cell_type": "code",
   "execution_count": 15,
   "id": "6f8d4334-604a-4c79-b261-847a41ba8828",
   "metadata": {},
   "outputs": [],
   "source": [
    "from pympler import asizeof"
   ]
  },
  {
   "cell_type": "code",
   "execution_count": 16,
   "id": "6f8ff780-4d7f-4a8c-a7ac-42ca4bb1e41d",
   "metadata": {},
   "outputs": [],
   "source": [
    "x = store[90]"
   ]
  },
  {
   "cell_type": "code",
   "execution_count": 17,
   "id": "71ee38bd-3f77-4319-9877-03ea70e98c3b",
   "metadata": {},
   "outputs": [
    {
     "name": "stdout",
     "output_type": "stream",
     "text": [
      "ActiveLearner(X_training=<1000x47236 s.... 0., 0., 1., 1., 0., 0., 0., 1., 0.])) size=368560760 flat=48\n",
      "    __dict__ size=368560712 flat=360\n",
      "        [V] X_unlabelled: <401207x47236 sparse matrix of type '<....ments in Compressed Sparse Row format> size=366486128 flat=48\n",
      "        [V] X_training: <1000x47236 sparse matrix of type '<cl....ments in Compressed Sparse Row format> size=924976 flat=48\n",
      "        [V] estimator: SVC(kernel='linear', probability=True) size=739096 flat=48\n",
      "        [V] y_unlabelled: array([0, 1, 0, ..., 0, 0, 1], dtype=uint8) size=401344 flat=104\n",
      "        [V] y_training: array([0., 1., 0., 1., 0., 0., 1., 1.,...., 0., 0., 1., 1., 0., 0., 0., 1., 0.]) size=8144 flat=104\n",
      "        [V] query_strategy: functools.partial(<function uncertainty_stop at 0x7f8d2c9923a0>, n_instances=10) size=144 flat=80\n",
      "        [K] force_all_finite size=72 flat=72\n",
      "        [K] estimator size=64 flat=64\n",
      "        [K] query_strategy size=64 flat=64\n",
      "        [K] on_transformed size=64 flat=64\n",
      "        [K] X_training size=64 flat=64\n",
      "        [K] y_training size=64 flat=64\n",
      "        [K] y_unlabelled size=64 flat=64\n",
      "        [K] X_unlabelled size=64 flat=64\n",
      "        [V] on_transformed: False size=0 flat=0\n",
      "        [V] force_all_finite: True size=0 flat=0\n",
      "    __class__ size=0 flat=0\n"
     ]
    }
   ],
   "source": [
    "print(asizeof.asized(x, detail=2).format())"
   ]
  },
  {
   "cell_type": "code",
   "execution_count": 9,
   "id": "034f6813-abbf-4fb4-b6da-ecbc20640332",
   "metadata": {},
   "outputs": [
    {
     "data": {
      "text/plain": [
       "350.2861022949219"
      ]
     },
     "execution_count": 9,
     "metadata": {},
     "output_type": "execute_result"
    }
   ],
   "source": [
    "367301600 /1024**2"
   ]
  },
  {
   "cell_type": "code",
   "execution_count": 24,
   "id": "d7a58dac-171c-4289-b338-0b882df7b23a",
   "metadata": {},
   "outputs": [],
   "source": [
    "def find_i(namelist):\n",
    "    x = 0\n",
    "    for s in namelist:\n",
    "        try:\n",
    "            x = max(x, int(s))\n",
    "        except ValueError:\n",
    "            pass\n",
    "    return x"
   ]
  },
  {
   "cell_type": "code",
   "execution_count": 28,
   "id": "e00ddf9d-63b2-473e-bcc0-6111025b6f73",
   "metadata": {},
   "outputs": [
    {
     "data": {
      "text/plain": [
       "90"
      ]
     },
     "execution_count": 28,
     "metadata": {},
     "output_type": "execute_result"
    }
   ],
   "source": [
    "find_i([*store.zip.namelist(), \"arrays.npz\", \"version\"])"
   ]
  },
  {
   "cell_type": "code",
   "execution_count": null,
   "id": "67bf9f9c-d8c8-4846-8e83-223912352121",
   "metadata": {},
   "outputs": [],
   "source": []
  }
 ],
 "metadata": {
  "kernelspec": {
   "display_name": "Python 3",
   "language": "python",
   "name": "python3"
  },
  "language_info": {
   "codemirror_mode": {
    "name": "ipython",
    "version": 3
   },
   "file_extension": ".py",
   "mimetype": "text/x-python",
   "name": "python",
   "nbconvert_exporter": "python",
   "pygments_lexer": "ipython3",
   "version": "3.8.8"
  }
 },
 "nbformat": 4,
 "nbformat_minor": 5
}
