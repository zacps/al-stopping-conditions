{
 "cells": [
  {
   "cell_type": "code",
   "execution_count": 1,
   "metadata": {},
   "outputs": [],
   "source": [
    "import warnings\n",
    "from importlib import reload\n",
    "from functools import partial, lru_cache\n",
    "\n",
    "import numpy as np\n",
    "import pandas as pd\n",
    "import matplotlib.pyplot as plt\n",
    "from sklearn import datasets, svm, metrics\n",
    "from sklearn.model_selection import train_test_split\n",
    "from tqdm.auto import tqdm, trange\n",
    "from joblib import delayed\n",
    "from modAL import batch\n",
    "from art.metrics import empirical_robustness\n",
    "from art.attacks.evasion import *\n",
    "from sklearn.metrics import accuracy_score, f1_score, roc_auc_score\n",
    "\n",
    "from ipynb.fs.defs import Bias\n",
    "from ipynb.fs.defs.Datasets import generateData_twoPills_2D, generateData_twoPills_noNoise_2D, plot_dataset_2D\n",
    "\n",
    "import libactive\n",
    "import libadversarial\n",
    "from libactive import MyActiveLearner, active_split\n",
    "from libadversarial import adversarial, uncertainty, random_batch\n",
    "from libutil import ProgressParallel\n",
    "from libdatasets import *\n",
    "import librun\n",
    "from librun import run"
   ]
  },
  {
   "cell_type": "code",
   "execution_count": 4,
   "metadata": {},
   "outputs": [],
   "source": [
    "X, _ = car()"
   ]
  },
  {
   "cell_type": "code",
   "execution_count": 19,
   "metadata": {},
   "outputs": [],
   "source": [
    "matrix = {\n",
    "    # Dataset fetchers should cache if possible\n",
    "    # Lambda wrapper required for function to be pickleable (sent to other threads via joblib)\n",
    "    \"datasets\": [\n",
    "        (\"car\", lambda: lru_cache()(car)())\n",
    "    ],\n",
    "    \"dataset_mutators\": {\n",
    "        \"none\": (lambda *x: x),\n",
    "    },\n",
    "    \"methods\": [\n",
    "         #bounds=[(np.amin(X[:,i]), np.amax(X[:,i])) for i in range(X.shape[1])]\n",
    "        #(\"random\", partial(random_batch, n_instances=10)),\n",
    "        #(\"uncertainty\", partial(batch.uncertainty_batch_sampling, n_instances=10)),\n",
    "        (\"deepfool\", partial(adversarial, Attack=partial(DeepFool, verbose=False), n_instances=10)),\n",
    "        (\"deepfool logits\", partial(adversarial, Attack=partial(DeepFool, verbose=False), n_instances=10, use_logits=True)),\n",
    "    ],\n",
    "    \"meta\": {\n",
    "        \"dataset_size\": 1000,\n",
    "        \"labelled_size\": 0.1,\n",
    "        \"n_runs\": 1\n",
    "    }\n",
    "}"
   ]
  },
  {
   "cell_type": "code",
   "execution_count": null,
   "metadata": {},
   "outputs": [
    {
     "data": {
      "application/vnd.jupyter.widget-view+json": {
       "model_id": "065a4f6ee8e843098a92ae6d96327ba0",
       "version_major": 2,
       "version_minor": 0
      },
      "text/plain": [
       "HBox(children=(HTML(value='Experiment'), FloatProgress(value=0.0, max=2.0), HTML(value='')))"
      ]
     },
     "metadata": {},
     "output_type": "display_data"
    }
   ],
   "source": [
    "results = librun.run(matrix, force_run=True)"
   ]
  },
  {
   "cell_type": "code",
   "execution_count": null,
   "metadata": {},
   "outputs": [],
   "source": [
    "librun.plot(results)"
   ]
  },
  {
   "cell_type": "code",
   "execution_count": 10,
   "metadata": {},
   "outputs": [
    {
     "name": "stdout",
     "output_type": "stream",
     "text": [
      "haberman\n",
      "╒══════════════╤═══════════╤════════════╤═══════════════╤═══════════╕\n",
      "│ method       │   AUC LAC │   AUC LF1C │   AUC AUC ROC │ max % @   │\n",
      "╞══════════════╪═══════════╪════════════╪═══════════════╪═══════════╡\n",
      "│ uncertainty  │    544.19 │     543.52 │        548.76 │ 167       │\n",
      "├──────────────┼───────────┼────────────┼───────────────┼───────────┤\n",
      "│ random       │    543.25 │     542.46 │        548.77 │ 237       │\n",
      "├──────────────┼───────────┼────────────┼───────────────┼───────────┤\n",
      "│ deepfool new │    543.22 │     542.4  │        548.84 │ -         │\n",
      "├──────────────┼───────────┼────────────┼───────────────┼───────────┤\n",
      "│ deepfool     │    543.21 │     542.39 │        548.84 │ -         │\n",
      "╘══════════════╧═══════════╧════════════╧═══════════════╧═══════════╛\n"
     ]
    }
   ],
   "source": [
    "librun.table(results)"
   ]
  }
 ],
 "metadata": {
  "kernelspec": {
   "display_name": "Python 3",
   "language": "python",
   "name": "python3"
  },
  "language_info": {
   "codemirror_mode": {
    "name": "ipython",
    "version": 3
   },
   "file_extension": ".py",
   "mimetype": "text/x-python",
   "name": "python",
   "nbconvert_exporter": "python",
   "pygments_lexer": "ipython3",
   "version": "3.8.5"
  }
 },
 "nbformat": 4,
 "nbformat_minor": 4
}
