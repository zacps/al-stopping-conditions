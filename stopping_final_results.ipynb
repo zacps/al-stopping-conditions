{
 "cells": [
  {
   "cell_type": "code",
   "execution_count": 2,
   "metadata": {},
   "outputs": [],
   "source": [
    "import warnings\n",
    "from importlib import reload\n",
    "from functools import partial, lru_cache\n",
    "import itertools\n",
    "from time import monotonic\n",
    "\n",
    "import numpy as np\n",
    "import pandas as pd\n",
    "import matplotlib.pyplot as plt\n",
    "from sklearn import datasets, svm, metrics\n",
    "from sklearn.model_selection import train_test_split\n",
    "from tqdm.auto import tqdm, trange\n",
    "from joblib import delayed\n",
    "from modAL import batch\n",
    "from art.metrics import empirical_robustness\n",
    "from art.attacks.evasion import *\n",
    "from sklearn.metrics import accuracy_score, f1_score, roc_auc_score\n",
    "from tabulate import tabulate\n",
    "from art.estimators.classification.scikitlearn import ScikitlearnSVC\n",
    "from sklearn.metrics.pairwise import paired_distances, euclidean_distances\n",
    "import scipy\n",
    "from tvregdiff.tvregdiff import TVRegDiff\n",
    "\n",
    "from ipynb.fs.defs import Bias\n",
    "from ipynb.fs.defs.Datasets import generateData_twoPills_2D, generateData_twoPills_noNoise_2D, plot_dataset_2D\n",
    "import ipywidgets as widgets\n",
    "from ipywidgets import interact\n",
    "\n",
    "import libactive\n",
    "import libadversarial\n",
    "import libstop\n",
    "from libactive import MyActiveLearner, active_split\n",
    "from libadversarial import adversarial, uncertainty, random_batch, uncertainty_stop\n",
    "from libutil import ProgressParallel\n",
    "from libdatasets import *\n",
    "import librun\n",
    "from librun import run"
   ]
  },
  {
   "cell_type": "code",
   "execution_count": 3,
   "metadata": {},
   "outputs": [],
   "source": [
    "import libdatasets; reload(libdatasets); from libdatasets import *"
   ]
  },
  {
   "cell_type": "code",
   "execution_count": 4,
   "metadata": {},
   "outputs": [],
   "source": [
    "def wrap(func, *args, **kwargs):\n",
    "    wrapper = lambda: lru_cache()(func)(*args, **kwargs)\n",
    "    for attr in [attr for attr in dir(func) if not attr.startswith('__')]:\n",
    "        setattr(wrapper, attr, getattr(func, attr))\n",
    "    return wrapper"
   ]
  },
  {
   "cell_type": "markdown",
   "metadata": {},
   "source": [
    "### Dataset selection criteria\n",
    "\n",
    "* More than 3000 instances\n",
    "* More than 2 features\n",
    "* No missing values\n",
    "* Ideally easy to extract & preprocess"
   ]
  },
  {
   "cell_type": "code",
   "execution_count": 6,
   "metadata": {},
   "outputs": [],
   "source": [
    "matrix = {\n",
    "    # Dataset fetchers should cache if possible\n",
    "    # Lambda wrapper required for function to be pickleable (sent to other threads via joblib)\n",
    "    \"datasets\": [\n",
    "        # Text classification\n",
    "        \n",
    "        # https://citeseerx.ist.psu.edu/viewdoc/download?doi=10.1.1.31.6090&rep=rep1&type=pdf\n",
    "        (\"newsgroups_faith\", wrap(newsgroups, None, ('alt.atheism', 'soc.religion.christian'))),\n",
    "        (\"newsgroups_graphics\", wrap(newsgroups, None, ('comp.graphics', 'comp.windows.x'))),\n",
    "        (\"newsgroups_hardware\", wrap(newsgroups, None, ('comp.os.ms-windows.misc', 'comp.sys.ibm.pc.hardware'))),\n",
    "        (\"newsgroups_sports_crypto\", wrap(newsgroups, None, ('rec.sport.baseball', 'sci.crypt'))),\n",
    "    \n",
    "        (\"rcv1\", wrap(rcv1, None)),\n",
    "        (\"webkb\", wrap(webkb, None)),\n",
    "        (\"spamassassin\", wrap(spamassassin, None)),\n",
    "        \n",
    "        # Image classification\n",
    "        (\"cifar10\", wrap(cifar10, None)),\n",
    "        (\"quickdraw\", wrap(quickdraw, None)),\n",
    "        (\"avila\", wrap(avila, None)),\n",
    "        \n",
    "        # General\n",
    "        (\"shuttle\", wrap(shuttle, None)),\n",
    "        #(\"covertype\", wrap(covertype, None)), # fit takes a million years (1233s for 1000 instances)\n",
    "        (\"smartphone\", wrap(smartphone, None)),\n",
    "        #(\"ida2016\", wrap(ida2016, None)), # HAS MISSING VALUES\n",
    "        (\"htru2\", wrap(htru2, None)),\n",
    "        #(\"malware\", wrap(malware, None)), # MALWARE FIT DID NOT FINISH (07:30:30.xxx CPU time)\n",
    "        (\"bidding\", wrap(bidding, None)),\n",
    "        (\"swarm\", wrap(swarm, None)),\n",
    "        (\"bank\", wrap(bank, None)),\n",
    "        (\"buzz\", wrap(buzz, None)), # Slow fit times\n",
    "        (\"sensorless\", wrap(sensorless, None)),\n",
    "        (\"dota2\", wrap(dota2, None)),\n",
    "        \n",
    "        # Bio\n",
    "        (\"abalone\", wrap(abalone, None)),\n",
    "        (\"splice\", wrap(splice, None)),\n",
    "        (\"anuran\", wrap(anuran, None)),\n",
    "        \n",
    "        # Medical\n",
    "        (\"cardio\", wrap(cardio, None)),\n",
    "        (\"skin\", wrap(skin, None)),\n",
    "        \n",
    "    ],\n",
    "    \"dataset_mutators\": {\n",
    "        \"none\": (lambda *x, **kwargs: x),\n",
    "    },\n",
    "    \"methods\": [\n",
    "        (\"uncertainty\", partial(uncertainty_stop, n_instances=10)),\n",
    "    ],\n",
    "    \"models\": [\n",
    "        \"svm-linear\"\n",
    "    ],\n",
    "    \"meta\": {\n",
    "        \"dataset_size\": 1000,\n",
    "        \"labelled_size\": 10,\n",
    "        \"test_size\": {\n",
    "            \"newsgroups_faith\": 500,\n",
    "            \"newsgroups_graphics\": 500,\n",
    "            \"newsgroups_hardware\": 500,\n",
    "            \"newsgroups_sports_crypto\": 500,\n",
    "            \"*\": 0.5\n",
    "        },\n",
    "        \"n_runs\": 10,\n",
    "        \"ret_classifiers\": True,\n",
    "        \"ensure_y\": True,\n",
    "        \"stop_info\": True,\n",
    "        \"aggregate\": False,\n",
    "        \"stop_function\": (\"len1000\", lambda learner: learner.y_training.shape[0] >= 1000),\n",
    "        \"pool_subsample\": 1000\n",
    "    }\n",
    "}"
   ]
  },
  {
   "cell_type": "code",
   "execution_count": 5,
   "metadata": {},
   "outputs": [],
   "source": [
    "capture_metrics = [\n",
    "    accuracy_score,\n",
    "    f1_score,\n",
    "    roc_auc_score,\n",
    "    \n",
    "    \"uncertainty_average\",\n",
    "    \"uncertainty_min\",\n",
    "    \"uncertainty_max\",\n",
    "    \"uncertainty_variance\",\n",
    "    \"uncertainty_average_selected\",\n",
    "    \"uncertainty_min_selected\",\n",
    "    \"uncertainty_max_selected\",\n",
    "    \"uncertainty_variance_selected\",\n",
    "    \"entropy_max\",\n",
    "    \"n_support\",\n",
    "    \"contradictory_information\",\n",
    "    # slow\n",
    "    #\"expected_error\"\n",
    "]"
   ]
  },
  {
   "cell_type": "markdown",
   "metadata": {},
   "source": [
    "### Dataset information"
   ]
  },
  {
   "cell_type": "code",
   "execution_count": 7,
   "metadata": {},
   "outputs": [
    {
     "name": "stderr",
     "output_type": "stream",
     "text": [
      "C:\\Users\\Zac\\Programming\\python\\research\\libdatasets.py:197: ParserWarning: Falling back to the 'python' engine because the 'c' engine does not support regex separators (separators > 1 char and different from '\\s+' are interpreted as regex); you can avoid this warning by specifying engine='python'.\n",
      "  dataset1 = pd.read_csv(\"Imitate/Datasets/shuttle.trn\", header=None, sep=\"\\s\")\n",
      "C:\\Users\\Zac\\Programming\\python\\research\\libdatasets.py:198: ParserWarning: Falling back to the 'python' engine because the 'c' engine does not support regex separators (separators > 1 char and different from '\\s+' are interpreted as regex); you can avoid this warning by specifying engine='python'.\n",
      "  dataset2 = pd.read_csv(\"Imitate/Datasets/shuttle.tst\", header=None, sep=\"\\s\")\n",
      "C:\\Users\\Zac\\Programming\\python\\research\\libdatasets.py:31: DtypeWarning: Columns (0) have mixed types.Specify dtype option on import or set low_memory=False.\n",
      "  data = [dataset() for dataset in datasets]\n"
     ]
    },
    {
     "name": "stdout",
     "output_type": "stream",
     "text": [
      "Dataset                     Instances    Classes    Features  Most common class    Least common class    Domain\n",
      "------------------------  -----------  ---------  ----------  -------------------  --------------------  --------\n",
      "newsgroups_faith                 1796          2      125145  15 56%               0 44%                 nlp\n",
      "newsgroups_graphics              1961          2      125145  5 50%                1 50%                 nlp\n",
      "newsgroups_hardware              1967          2      125145  2 50%                3 50%                 nlp\n",
      "newsgroups_sports_crypto         1985          2      125145  9 50%                11 50%                nlp\n",
      "rcv1                           804414          2       47236  0 53%                1 47%                 nlp\n",
      "webkb                            4199          4       22981  student 39%          project 12%           nlp\n",
      "spamassassin                     6051          2       50196  ham 69%              spam 31%              nlp\n",
      "cifar10                         60000         10        3072  0 10%                0 10%                 image\n",
      "quickdraw                      556217          4         784  4 29%                2 22%                 image\n",
      "shuttle                         58000          2          10  True 79%             False 21%             general\n",
      "smartphone                      10927         12         561  5 18%                8 0%                  general\n",
      "htru2                           17898          2           8  0 91%                1 9%                  physical\n",
      "bidding                          6321          2       20719  0 89%                1 11%                 general\n",
      "swarm                           24015          2        2400  0 50%                1 50%                 general\n",
      "abalone                          1000          3           8  M 38%                F 31%                 general\n",
      "splice                           3190          3         287  N 52%                EI 24%                general\n",
      "cardio                          70000          2           3  0 50%                1 50%                 general\n",
      "skin                           245057          2           3  2 79%                1 21%                 general\n"
     ]
    }
   ],
   "source": [
    "libdatasets.dataset_summary([data[0] for data in matrix['datasets']], [data[1] for data in matrix['datasets']])"
   ]
  },
  {
   "cell_type": "code",
   "execution_count": 15,
   "metadata": {},
   "outputs": [
    {
     "data": {
      "text/plain": [
       "<module 'librun' from 'C:\\\\Users\\\\Zac\\\\Programming\\\\python\\\\research\\\\librun.py'>"
      ]
     },
     "execution_count": 15,
     "metadata": {},
     "output_type": "execute_result"
    }
   ],
   "source": [
    "reload(librun)"
   ]
  },
  {
   "cell_type": "code",
   "execution_count": null,
   "metadata": {},
   "outputs": [],
   "source": [
    "results = librun.run(matrix, metrics=capture_metrics, force_run=True)"
   ]
  },
  {
   "cell_type": "markdown",
   "metadata": {},
   "source": [
    "### Plan"
   ]
  },
  {
   "cell_type": "markdown",
   "metadata": {},
   "source": [
    "* Learn to 1,000 instances. \n",
    "* Use a pool of as much data as possible for the dataset. \n",
    "* Start at 10+ensure_y instances\n",
    "* Use a validation set size of ???\n",
    "* Randomise the split each run, but use a seeded generator\n",
    "* Report results using autorank?"
   ]
  },
  {
   "cell_type": "code",
   "execution_count": null,
   "metadata": {},
   "outputs": [],
   "source": []
  }
 ],
 "metadata": {
  "kernelspec": {
   "display_name": "Python 3",
   "language": "python",
   "name": "python3"
  },
  "language_info": {
   "codemirror_mode": {
    "name": "ipython",
    "version": 3
   },
   "file_extension": ".py",
   "mimetype": "text/x-python",
   "name": "python",
   "nbconvert_exporter": "python",
   "pygments_lexer": "ipython3",
   "version": "3.8.5"
  }
 },
 "nbformat": 4,
 "nbformat_minor": 4
}
