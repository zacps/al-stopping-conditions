{
 "cells": [
  {
   "cell_type": "code",
   "execution_count": 3,
   "metadata": {},
   "outputs": [],
   "source": [
    "import warnings\n",
    "from importlib import reload\n",
    "from functools import partial, lru_cache\n",
    "import itertools\n",
    "from time import monotonic\n",
    "\n",
    "import numpy as np\n",
    "import pandas as pd\n",
    "import matplotlib.pyplot as plt\n",
    "from sklearn import datasets, svm, metrics\n",
    "from sklearn.model_selection import train_test_split\n",
    "from tqdm.auto import tqdm, trange\n",
    "from joblib import delayed\n",
    "from modAL import batch\n",
    "from art.metrics import empirical_robustness\n",
    "from art.attacks.evasion import *\n",
    "from sklearn.metrics import accuracy_score, f1_score, roc_auc_score\n",
    "from tabulate import tabulate\n",
    "from art.estimators.classification.scikitlearn import ScikitlearnSVC\n",
    "from sklearn.metrics.pairwise import paired_distances, euclidean_distances\n",
    "import scipy\n",
    "from tvregdiff.tvregdiff import TVRegDiff\n",
    "from tabulate import tabulate\n",
    "from tqdm.notebook import tqdm\n",
    "\n",
    "import ipywidgets as widgets\n",
    "from ipywidgets import interact\n",
    "\n",
    "import libactive\n",
    "import libadversarial\n",
    "import libstop\n",
    "from libactive import MyActiveLearner, active_split\n",
    "from libadversarial import adversarial, uncertainty, random_batch, uncertainty_stop\n",
    "from libutil import ProgressParallel\n",
    "from libdatasets import *\n",
    "import librun\n",
    "from librun import run"
   ]
  },
  {
   "cell_type": "code",
   "execution_count": 4,
   "metadata": {},
   "outputs": [],
   "source": [
    "import libdatasets; reload(libdatasets); from libdatasets import *"
   ]
  },
  {
   "cell_type": "code",
   "execution_count": 5,
   "metadata": {},
   "outputs": [],
   "source": [
    "matrix = {\n",
    "    # Dataset fetchers should cache if possible\n",
    "    # Lambda wrapper required for function to be pickleable (sent to other threads via joblib)\n",
    "    \"datasets\": [\n",
    "        #(\"newsgroups\", wrap(newsgroups, None)),\n",
    "        (\"rcv1\", wrap(rcv1, None)),\n",
    "        (\"webkb\", wrap(webkb, None)),\n",
    "        (\"spamassassin\", wrap(spamassassin, None)),\n",
    "        \n",
    "        # Image classification\n",
    "        (\"cifar10\", wrap(cifar10, None)),\n",
    "        (\"quickdraw\", wrap(quickdraw, None)),\n",
    "        (\"avila\", wrap(avila, None)),\n",
    "        \n",
    "        # General\n",
    "        (\"shuttle\", wrap(shuttle, None)),\n",
    "        #(\"covertype\", wrap(covertype, None)), # fit takes a million years (1233s for 1000 instances)\n",
    "        (\"smartphone\", wrap(smartphone, None)),\n",
    "        (\"htru2\", wrap(htru2, None)),\n",
    "        #(\"malware\", wrap(malware, None)), # MALWARE FIT DID NOT FINISH (07:30:30.xxx CPU time)\n",
    "        (\"bidding\", wrap(bidding, None)),\n",
    "        (\"swarm\", wrap(swarm, None)),\n",
    "        (\"bank\", wrap(bank, None)),\n",
    "        #(\"buzz\", wrap(buzz, None)), # Slow fit times\n",
    "        (\"sensorless\", wrap(sensorless, None)),\n",
    "        (\"dota2\", wrap(dota2, None)),\n",
    "        \n",
    "        # Bio\n",
    "        (\"abalone\", wrap(abalone, None)),\n",
    "        (\"splice\", wrap(splice, None)),\n",
    "        (\"anuran\", wrap(anuran, None)),\n",
    "        \n",
    "        # Medical\n",
    "        (\"cardio\", wrap(cardio, None)),\n",
    "        (\"skin\", wrap(skin, None)),\n",
    "    ],\n",
    "    \"dataset_mutators\": {\n",
    "        \"none\": (lambda *x, **kwargs: x),\n",
    "    },\n",
    "    \"methods\": [\n",
    "        (\"uncertainty\", partial(uncertainty_stop, n_instances=10)),\n",
    "    ],\n",
    "    \"models\": [\n",
    "        \"svm-linear\"\n",
    "    ],\n",
    "    \"meta\": {\n",
    "        \"dataset_size\": 1000,\n",
    "        \"labelled_size\": 10,\n",
    "        \"test_size\": {\n",
    "            \"newsgroups_faith\": 500,\n",
    "            \"newsgroups_graphics\": 500,\n",
    "            \"newsgroups_hardware\": 500,\n",
    "            \"newsgroups_sports_crypto\": 500,\n",
    "            \"*\": 0.5\n",
    "        },\n",
    "        \"n_runs\": 10,\n",
    "        \"ret_classifiers\": True,\n",
    "        \"ensure_y\": True,\n",
    "        \"stop_info\": True,\n",
    "        \"aggregate\": False,\n",
    "        \"stop_function\": (\"len1000\", lambda learner: learner.y_training.shape[0] >= 1000),\n",
    "        \"pool_subsample\": 1000\n",
    "    }\n",
    "}\n"
   ]
  },
  {
   "cell_type": "code",
   "execution_count": 6,
   "metadata": {},
   "outputs": [],
   "source": [
    "from sklearn.svm import SVC\n",
    "from sklearn.tree import DecisionTreeClassifier\n",
    "from sklearn.preprocessing import StandardScaler\n",
    "from time import monotonic\n",
    "import operator\n",
    "import nesi_bias\n",
    "reload(nesi_bias)\n",
    "reload(libactive); from libactive import active_split\n",
    "from nesi_bias import bias\n",
    "from dotenv import load_dotenv; load_dotenv()\n",
    "\n",
    "def func(model):\n",
    "    results = []\n",
    "    for (name, dataset) in tqdm(matrix['datasets']):\n",
    "        #print(f\"{name}\")\n",
    "        X, y = dataset()\n",
    "\n",
    "        try:\n",
    "            X_labelled, X_unlabelled, Y_labelled, Y_oracle, X_test, y_test = active_split(\n",
    "                *dataset(), mutator=matrix['dataset_mutators']['none'], test_size=0.5, labeled_size=10, shuffle=True, random_state=np.random\n",
    "            )\n",
    "            assert X_unlabelled.shape[0] >= 1490, \"unlabelled pool too small\"\n",
    "        except Exception as e:\n",
    "            #print(f\"Could not split: {e}\")\n",
    "            results.append([name, 0,0,0])\n",
    "            continue\n",
    "\n",
    "        if isinstance(X_labelled, scipy.sparse.csr_matrix):\n",
    "            X = scipy.sparse.vstack((X_labelled, X_unlabelled))\n",
    "        else:\n",
    "            X = np.concatenate((X_labelled, X_unlabelled))\n",
    "        y = np.concatenate((Y_labelled, Y_oracle))\n",
    "\n",
    "\n",
    "        clf = model()\n",
    "\n",
    "        clf.fit(X_labelled, Y_labelled)\n",
    "        start = clf.score(X_test, y_test)\n",
    "        start_t = monotonic()\n",
    "        clf.fit(X[:1000], y[:1000])\n",
    "        time = monotonic() - start_t\n",
    "        final = clf.score(X_test, y_test)\n",
    "        results.append([name, start, final, time])\n",
    "        \n",
    "    results = np.array(results)\n",
    "    print(tabulate(np.hstack((results, np.expand_dims(results[:,2].astype(float)-results[:,1].astype(float), axis=1))), headers=[\"Name\", \"Initial acc\", \"Final acc\", \"Time\", \"Diff\"]))"
   ]
  },
  {
   "cell_type": "code",
   "execution_count": 13,
   "metadata": {},
   "outputs": [
    {
     "data": {
      "application/vnd.jupyter.widget-view+json": {
       "model_id": "5ce5e7a8d2034a3cb74b51c9861c2fcb",
       "version_major": 2,
       "version_minor": 0
      },
      "text/plain": [
       "HBox(children=(HTML(value=''), FloatProgress(value=0.0, max=19.0), HTML(value='')))"
      ]
     },
     "metadata": {},
     "output_type": "display_data"
    },
    {
     "name": "stdout",
     "output_type": "stream",
     "text": [
      "\n",
      "Name            Initial acc    Final acc    Time         Diff\n",
      "------------  -------------  -----------  ------  -----------\n",
      "rcv1               0.474062     0.902694   3.093   0.428633\n",
      "webkb              0.298571     0.881429   3.172   0.582857\n",
      "spamassassin       0.742895     0.967284   2.375   0.224389\n",
      "cifar10            0.1394       0.300567   7.453   0.161167\n",
      "quickdraw          0.559482     0.75118    0.969   0.191698\n",
      "avila              0.177497     0.577918   0.25    0.400422\n",
      "shuttle            0.926138     0.970517   0.031   0.0443793\n",
      "smartphone         0.619327     0.940154   0.25    0.320827\n",
      "htru2              0.949156     0.979327   0.015   0.030171\n",
      "bidding            0.888326     0.989244   0.078   0.100917\n",
      "swarm              0.667971     0.942622   3.312   0.27465\n",
      "bank               0.883084     0.875697   0.328  -0.00738742\n",
      "sensorless         0.178978     0.869219   0.297   0.690241\n",
      "dota2              0.495143     0.563433   7.25    0.0682896\n",
      "abalone            0.438966     0.519387   0.344   0.0804213\n",
      "splice             0.592476     0.918495   0.75    0.326019\n",
      "anuran             0.758755     0.931907   0.062   0.173152\n",
      "cardio             0.597257     0.616429   0.094   0.0191714\n",
      "skin               0.793951     0.883032   0.031   0.089081\n"
     ]
    }
   ],
   "source": [
    "func(partial(SVC, kernel='linear', probability=True))"
   ]
  },
  {
   "cell_type": "markdown",
   "metadata": {},
   "source": [
    "**Easy Dataset**: htru2\n",
    "\n",
    "**Hard Dataset**: cifar10"
   ]
  },
  {
   "cell_type": "code",
   "execution_count": 5,
   "metadata": {},
   "outputs": [
    {
     "data": {
      "application/vnd.jupyter.widget-view+json": {
       "model_id": "963738e2a3fd4f3e9547c0486ad753d1",
       "version_major": 2,
       "version_minor": 0
      },
      "text/plain": [
       "HBox(children=(HTML(value=''), FloatProgress(value=0.0, max=19.0), HTML(value='')))"
      ]
     },
     "metadata": {},
     "output_type": "display_data"
    },
    {
     "name": "stdout",
     "output_type": "stream",
     "text": [
      "\n",
      "Name            Initial acc    Final acc    Time        Diff\n",
      "------------  -------------  -----------  ------  ----------\n",
      "rcv1               0.573874     0.794183   0.235   0.220309\n",
      "webkb              0.503333     0.784286   0.203   0.280952\n",
      "spamassassin       0.794118     0.944151   0.234   0.150033\n",
      "cifar10            0.129167     0.197933   2.094   0.0687667\n",
      "quickdraw          0.38344      0.636689   0.25    0.25325\n",
      "avila              0.123251     0.668488   0.016   0.545237\n",
      "shuttle            0.926        0.995655   0       0.0696552\n",
      "smartphone         0.216508     0.830344   0.484   0.613836\n",
      "htru2              0.902        0.967818   0       0.0658174\n",
      "bidding            0.97311      0.995255   0.031   0.0221449\n",
      "swarm              0.515073     0.9751     0.641   0.460027\n",
      "bank               0.671017     0.874635   0.032   0.203619\n",
      "sensorless         0.114818     0.8698     0.031   0.754982\n",
      "dota2              0.500816     0.51391    0.016   0.0130945\n",
      "abalone            0.538535     0.505026   0      -0.0335089\n",
      "splice             0.398746     0.884639   0.032   0.485893\n",
      "anuran             0.348249     0.905503   0.015   0.557254\n",
      "cardio             0.550714     0.5402     0      -0.0105143\n",
      "skin               0.669295     0.968032   0       0.298737\n"
     ]
    }
   ],
   "source": [
    "func(DecisionTreeClassifier)"
   ]
  },
  {
   "cell_type": "markdown",
   "metadata": {},
   "source": [
    "**Easy Dataset**: htru2\n",
    "\n",
    "**Hard Dataset**: cifar10"
   ]
  },
  {
   "cell_type": "code",
   "execution_count": 7,
   "metadata": {},
   "outputs": [
    {
     "data": {
      "application/vnd.jupyter.widget-view+json": {
       "model_id": "827c75bb3ebd4f2d80222bd151f23b74",
       "version_major": 2,
       "version_minor": 0
      },
      "text/plain": [
       "HBox(children=(HTML(value=''), FloatProgress(value=0.0, max=19.0), HTML(value='')))"
      ]
     },
     "metadata": {},
     "output_type": "display_data"
    },
    {
     "name": "stdout",
     "output_type": "stream",
     "text": [
      "\n",
      "Name            Initial acc    Final acc    Time        Diff\n",
      "------------  -------------  -----------  ------  ----------\n",
      "rcv1               0.506682     0.86592    2.438  0.359238\n",
      "webkb              0.504762     0.861905   1.188  0.357143\n",
      "spamassassin       0.681758     0.961666   0.813  0.279907\n",
      "cifar10            0.155933     0.3382     3.235  0.182267\n",
      "quickdraw          0.393734     0.821556   0.672  0.427821\n",
      "avila              0.221679     0.771229   0.297  0.54955\n",
      "shuttle            0.98731      0.997828   0.203  0.0105172\n",
      "smartphone         0.511896     0.920937   1.719  0.409041\n",
      "htru2              0.966253     0.977092   0.312  0.0108392\n",
      "bidding            0.898134     0.979437   1.203  0.0813034\n",
      "swarm              0.858594     0.999584   1.094  0.140989\n",
      "bank               0.881315     0.883482   1.063  0.00216757\n",
      "sensorless         0.256879     0.949889   0.422  0.69301\n",
      "dota2              0.509287     0.538137   0.281  0.0288506\n",
      "abalone            0.507899     0.51843    0.219  0.0105314\n",
      "splice             0.567398     0.944201   0.438  0.376803\n",
      "anuran             0.734575     0.954141   0.312  0.219566\n",
      "cardio             0.528771     0.568657   0.203  0.0398857\n",
      "skin               0.802683     0.970146   0.14   0.167462\n"
     ]
    }
   ],
   "source": [
    "from sklearn.ensemble import RandomForestClassifier\n",
    "func(RandomForestClassifier)"
   ]
  },
  {
   "cell_type": "markdown",
   "metadata": {},
   "source": [
    "**Easy Dataset**: htru2\n",
    "\n",
    "**Hard Dataset**: cifar10"
   ]
  },
  {
   "cell_type": "code",
   "execution_count": 10,
   "metadata": {},
   "outputs": [
    {
     "data": {
      "application/vnd.jupyter.widget-view+json": {
       "model_id": "f02271e1adc34018b4b50839b576d20b",
       "version_major": 2,
       "version_minor": 0
      },
      "text/plain": [
       "HBox(children=(HTML(value=''), FloatProgress(value=0.0, max=19.0), HTML(value='')))"
      ]
     },
     "metadata": {},
     "output_type": "display_data"
    },
    {
     "name": "stderr",
     "output_type": "stream",
     "text": [
      "c:\\users\\zac\\appdata\\local\\programs\\python\\python38\\lib\\site-packages\\sklearn\\neural_network\\_multilayer_perceptron.py:614: ConvergenceWarning: Stochastic Optimizer: Maximum iterations (200) reached and the optimization hasn't converged yet.\n",
      "  warnings.warn(\n",
      "c:\\users\\zac\\appdata\\local\\programs\\python\\python38\\lib\\site-packages\\sklearn\\neural_network\\_multilayer_perceptron.py:614: ConvergenceWarning: Stochastic Optimizer: Maximum iterations (200) reached and the optimization hasn't converged yet.\n",
      "  warnings.warn(\n",
      "c:\\users\\zac\\appdata\\local\\programs\\python\\python38\\lib\\site-packages\\sklearn\\neural_network\\_multilayer_perceptron.py:614: ConvergenceWarning: Stochastic Optimizer: Maximum iterations (200) reached and the optimization hasn't converged yet.\n",
      "  warnings.warn(\n",
      "c:\\users\\zac\\appdata\\local\\programs\\python\\python38\\lib\\site-packages\\sklearn\\neural_network\\_multilayer_perceptron.py:614: ConvergenceWarning: Stochastic Optimizer: Maximum iterations (200) reached and the optimization hasn't converged yet.\n",
      "  warnings.warn(\n",
      "c:\\users\\zac\\appdata\\local\\programs\\python\\python38\\lib\\site-packages\\sklearn\\neural_network\\_multilayer_perceptron.py:614: ConvergenceWarning: Stochastic Optimizer: Maximum iterations (200) reached and the optimization hasn't converged yet.\n",
      "  warnings.warn(\n",
      "c:\\users\\zac\\appdata\\local\\programs\\python\\python38\\lib\\site-packages\\sklearn\\neural_network\\_multilayer_perceptron.py:614: ConvergenceWarning: Stochastic Optimizer: Maximum iterations (200) reached and the optimization hasn't converged yet.\n",
      "  warnings.warn(\n",
      "c:\\users\\zac\\appdata\\local\\programs\\python\\python38\\lib\\site-packages\\sklearn\\neural_network\\_multilayer_perceptron.py:614: ConvergenceWarning: Stochastic Optimizer: Maximum iterations (200) reached and the optimization hasn't converged yet.\n",
      "  warnings.warn(\n",
      "c:\\users\\zac\\appdata\\local\\programs\\python\\python38\\lib\\site-packages\\sklearn\\neural_network\\_multilayer_perceptron.py:614: ConvergenceWarning: Stochastic Optimizer: Maximum iterations (200) reached and the optimization hasn't converged yet.\n",
      "  warnings.warn(\n",
      "c:\\users\\zac\\appdata\\local\\programs\\python\\python38\\lib\\site-packages\\sklearn\\neural_network\\_multilayer_perceptron.py:614: ConvergenceWarning: Stochastic Optimizer: Maximum iterations (200) reached and the optimization hasn't converged yet.\n",
      "  warnings.warn(\n",
      "c:\\users\\zac\\appdata\\local\\programs\\python\\python38\\lib\\site-packages\\sklearn\\neural_network\\_multilayer_perceptron.py:614: ConvergenceWarning: Stochastic Optimizer: Maximum iterations (200) reached and the optimization hasn't converged yet.\n",
      "  warnings.warn(\n",
      "c:\\users\\zac\\appdata\\local\\programs\\python\\python38\\lib\\site-packages\\sklearn\\neural_network\\_multilayer_perceptron.py:614: ConvergenceWarning: Stochastic Optimizer: Maximum iterations (200) reached and the optimization hasn't converged yet.\n",
      "  warnings.warn(\n",
      "c:\\users\\zac\\appdata\\local\\programs\\python\\python38\\lib\\site-packages\\sklearn\\neural_network\\_multilayer_perceptron.py:614: ConvergenceWarning: Stochastic Optimizer: Maximum iterations (200) reached and the optimization hasn't converged yet.\n",
      "  warnings.warn(\n",
      "c:\\users\\zac\\appdata\\local\\programs\\python\\python38\\lib\\site-packages\\sklearn\\neural_network\\_multilayer_perceptron.py:614: ConvergenceWarning: Stochastic Optimizer: Maximum iterations (200) reached and the optimization hasn't converged yet.\n",
      "  warnings.warn(\n",
      "c:\\users\\zac\\appdata\\local\\programs\\python\\python38\\lib\\site-packages\\sklearn\\neural_network\\_multilayer_perceptron.py:614: ConvergenceWarning: Stochastic Optimizer: Maximum iterations (200) reached and the optimization hasn't converged yet.\n",
      "  warnings.warn(\n"
     ]
    },
    {
     "name": "stdout",
     "output_type": "stream",
     "text": [
      "\n",
      "Name            Initial acc    Final acc     Time         Diff\n",
      "------------  -------------  -----------  -------  -----------\n",
      "rcv1               0.700744     0.893493  167.11    0.192749\n",
      "webkb              0.618571     0.880476   37.625   0.261905\n",
      "spamassassin       0.816259     0.983146   47.609   0.166887\n",
      "cifar10            0.1324       0.100367   16.406  -0.0320333\n",
      "quickdraw          0.395902     0.706158    1.047   0.310256\n",
      "avila              0.287905     0.6705      1.11    0.382595\n",
      "shuttle            0.908034     0.996552    0.953   0.0885172\n",
      "smartphone         0.533309     0.934663    3.406   0.401354\n",
      "htru2              0.970499     0.976981    0.516   0.00648117\n",
      "bidding            0.891174     0.94274    44.25    0.051566\n",
      "swarm              0.538724     0.973185    2.656   0.43446\n",
      "bank               0.881934     0.87291    36.75   -0.00902415\n",
      "sensorless         0.212032     0.865356    1.25    0.653324\n",
      "dota2              0.472179     0.549483    1.25    0.0773042\n",
      "abalone            0.498803     0.53662     0.75    0.0378171\n",
      "splice             0.563636     0.927273    1.468   0.363636\n",
      "anuran             0.665648     0.957754    1.078   0.292107\n",
      "cardio             0.573429     0.615543    0.25    0.0421143\n",
      "skin               0.879416     0.957855    0.828   0.0784386\n"
     ]
    },
    {
     "name": "stderr",
     "output_type": "stream",
     "text": [
      "c:\\users\\zac\\appdata\\local\\programs\\python\\python38\\lib\\site-packages\\sklearn\\neural_network\\_multilayer_perceptron.py:614: ConvergenceWarning: Stochastic Optimizer: Maximum iterations (200) reached and the optimization hasn't converged yet.\n",
      "  warnings.warn(\n"
     ]
    }
   ],
   "source": [
    "from sklearn.neural_network import MLPClassifier\n",
    "func(MLPClassifier)"
   ]
  },
  {
   "cell_type": "markdown",
   "metadata": {},
   "source": [
    "## Noise"
   ]
  },
  {
   "cell_type": "code",
   "execution_count": 15,
   "metadata": {},
   "outputs": [],
   "source": [
    "from nesi_noise import noise\n",
    "def func(amount):\n",
    "    results = []\n",
    "    for (name, dataset) in tqdm(matrix['datasets']):\n",
    "        #print(f\"{name}\")\n",
    "        X, y = dataset()\n",
    "\n",
    "        try:\n",
    "            X_labelled, X_unlabelled, Y_labelled, Y_oracle, X_test, y_test = active_split(\n",
    "                *dataset(), mutator=partial(noise, amount=amount), test_size=0.5, labeled_size=10, shuffle=True, random_state=np.random\n",
    "            )\n",
    "            assert X_unlabelled.shape[0] >= 1490, \"unlabelled pool too small\"\n",
    "        except Exception as e:\n",
    "            print(f\"Could not split: {e}\")\n",
    "            results.append([name, 0,0,0])\n",
    "            continue\n",
    "\n",
    "        if isinstance(X_labelled, scipy.sparse.csr_matrix):\n",
    "            X = scipy.sparse.vstack((X_labelled, X_unlabelled))\n",
    "        else:\n",
    "            X = np.concatenate((X_labelled, X_unlabelled))\n",
    "        y = np.concatenate((Y_labelled, Y_oracle))\n",
    "\n",
    "\n",
    "        clf = SVC(kernel='linear', probability=True)\n",
    "\n",
    "        clf.fit(X_labelled, Y_labelled)\n",
    "        start = clf.score(X_test, y_test)\n",
    "        start_t = monotonic()\n",
    "        clf.fit(X[:1000], y[:1000])\n",
    "        time = monotonic() - start_t\n",
    "        final = clf.score(X_test, y_test)\n",
    "        results.append([name, start, final, time])\n",
    "        \n",
    "    results = np.array(results)\n",
    "    print(tabulate(np.hstack((results, np.expand_dims(results[:,2].astype(float)-results[:,1].astype(float), axis=1))), headers=[\"Name\", \"Initial acc\", \"Final acc\", \"Time\", \"Diff\"]))"
   ]
  },
  {
   "cell_type": "code",
   "execution_count": 16,
   "metadata": {},
   "outputs": [
    {
     "name": "stdout",
     "output_type": "stream",
     "text": [
      "noise=0.1\n"
     ]
    },
    {
     "data": {
      "application/vnd.jupyter.widget-view+json": {
       "model_id": "91eff79444904f449fcbca0c93df2190",
       "version_major": 2,
       "version_minor": 0
      },
      "text/plain": [
       "HBox(children=(HTML(value=''), FloatProgress(value=0.0, max=19.0), HTML(value='')))"
      ]
     },
     "metadata": {},
     "output_type": "display_data"
    },
    {
     "name": "stdout",
     "output_type": "stream",
     "text": [
      "\n",
      "Name            Initial acc    Final acc    Time          Diff\n",
      "------------  -------------  -----------  ------  ------------\n",
      "rcv1               0.604234     0.9021     3.016   0.297867\n",
      "webkb              0.496667     0.850952   4.547   0.354286\n",
      "spamassassin       0.659617     0.924653   4.906   0.265036\n",
      "cifar10            0.1053       0.259733  14.156   0.154433\n",
      "quickdraw          0.488104     0.662758   1.656   0.174655\n",
      "avila              0.134656     0.565842   0.36    0.431187\n",
      "shuttle            0.927379     0.927241   0.172  -0.000137931\n",
      "smartphone         0.452233     0.907211   0.578   0.454978\n",
      "htru2              0.812381     0.975528   0.062   0.163147\n",
      "bidding            0.900981     0.975008   0.329   0.0740272\n",
      "swarm              0.583278     0.795886   6.235   0.212608\n",
      "bank               0.846722     0.851544   0.5     0.00482173\n",
      "sensorless         0.235447     0.794838   0.797   0.559392\n",
      "dota2              0.509481     0.553213   6.719   0.0437325\n",
      "abalone            0.517472     0.533748   0.407   0.0162757\n",
      "splice             0.505329     0.803135   1.219   0.297806\n",
      "anuran             0.339355     0.932185   0.125   0.592829\n",
      "cardio             0.500514     0.619343   0.11    0.118829\n",
      "skin               0.886745     0.883399   0.031  -0.00334615\n",
      "noise=0.2\n"
     ]
    },
    {
     "data": {
      "application/vnd.jupyter.widget-view+json": {
       "model_id": "42674f3087194730aecd605729a7c6aa",
       "version_major": 2,
       "version_minor": 0
      },
      "text/plain": [
       "HBox(children=(HTML(value=''), FloatProgress(value=0.0, max=19.0), HTML(value='')))"
      ]
     },
     "metadata": {},
     "output_type": "display_data"
    },
    {
     "name": "stdout",
     "output_type": "stream",
     "text": [
      "\n",
      "Name            Initial acc    Final acc    Time       Diff\n",
      "------------  -------------  -----------  ------  ---------\n",
      "rcv1               0.536443     0.874361   3.203  0.337918\n",
      "webkb              0.307143     0.772857   7.015  0.465714\n",
      "spamassassin       0.460674     0.893919   5.735  0.433245\n",
      "cifar10            0.152367     0.253367  12.937  0.101\n",
      "quickdraw          0.514079     0.656494   1.562  0.142415\n",
      "avila              0.12258      0.527123   0.344  0.404543\n",
      "shuttle            0.843724     0.926552   0.875  0.0828276\n",
      "smartphone         0.358346     0.846449   0.75   0.488104\n",
      "htru2              0.864789     0.964912   0.109  0.100123\n",
      "bidding            0.950965     0.963303   0.359  0.0123379\n",
      "swarm              0.568621     0.771236   6.219  0.202615\n",
      "bank               0.499071     0.82916    0.516  0.330089\n",
      "sensorless         0.167048     0.770296   1.141  0.603247\n",
      "dota2              0.499262     0.549134   6.5    0.0498718\n",
      "abalone            0.513164     0.539493   0.312  0.0263284\n",
      "splice             0.475235     0.766771   1.86   0.291536\n",
      "anuran             0.650361     0.928571   0.156  0.27821\n",
      "cardio             0.5018       0.619086   0.125  0.117286\n",
      "skin               0.88202      0.88202    0.031  0\n",
      "noise=0.30000000000000004\n"
     ]
    },
    {
     "data": {
      "application/vnd.jupyter.widget-view+json": {
       "model_id": "88cefe4692784b53bbb00d4692066604",
       "version_major": 2,
       "version_minor": 0
      },
      "text/plain": [
       "HBox(children=(HTML(value=''), FloatProgress(value=0.0, max=19.0), HTML(value='')))"
      ]
     },
     "metadata": {},
     "output_type": "display_data"
    },
    {
     "name": "stdout",
     "output_type": "stream",
     "text": [
      "\n",
      "Name            Initial acc    Final acc    Time        Diff\n",
      "------------  -------------  -----------  ------  ----------\n",
      "rcv1               0.52839      0.874997   3.187   0.346608\n",
      "webkb              0.262857     0.699048   7.547   0.43619\n",
      "spamassassin       0.662921     0.813615   9.39    0.150694\n",
      "cifar10            0.1468       0.232067  16.922   0.0852667\n",
      "quickdraw          0.300303     0.574681   1.906   0.274378\n",
      "avila              0.232413     0.554246   0.5     0.321832\n",
      "shuttle            0.785414     0.927793   0.625   0.142379\n",
      "smartphone         0.332723     0.795205   0.954   0.462482\n",
      "htru2              0.872947     0.960443   0.14    0.0874958\n",
      "bidding            0.906675     0.950965   0.422   0.0442898\n",
      "swarm              0.532145     0.725433   8.515   0.193288\n",
      "bank               0.854242     0.802707   0.578  -0.051535\n",
      "sensorless         0.166912     0.669732   1.281   0.50282\n",
      "dota2              0.522012     0.547754   7.953   0.0257422\n",
      "abalone            0.505984     0.53662    0.25    0.0306367\n",
      "splice             0.502194     0.710972   2.375   0.208777\n",
      "anuran             0.132296     0.918566   0.203   0.78627\n",
      "cardio             0.499771     0.612371   0.109   0.1126\n",
      "skin               0.906626     0.883219   0.078  -0.0234067\n",
      "noise=0.4\n"
     ]
    },
    {
     "data": {
      "application/vnd.jupyter.widget-view+json": {
       "model_id": "0e1f65c82569491d8f95bed9b6b34550",
       "version_major": 2,
       "version_minor": 0
      },
      "text/plain": [
       "HBox(children=(HTML(value=''), FloatProgress(value=0.0, max=19.0), HTML(value='')))"
      ]
     },
     "metadata": {},
     "output_type": "display_data"
    },
    {
     "name": "stdout",
     "output_type": "stream",
     "text": [
      "\n",
      "Name            Initial acc    Final acc    Time        Diff\n",
      "------------  -------------  -----------  ------  ----------\n",
      "rcv1               0.524976     0.871797   3.171   0.346821\n",
      "webkb              0.473333     0.704762   8.297   0.231429\n",
      "spamassassin       0.634171     0.825512   9.297   0.191342\n",
      "cifar10            0.110567     0.205633  24.172   0.0950667\n",
      "quickdraw          0.348935     0.555451   2.672   0.206516\n",
      "avila              0.105041     0.50738    0.516   0.402339\n",
      "shuttle            0.816414     0.926034   0.094   0.109621\n",
      "smartphone         0.33675      0.729319   1.125   0.39257\n",
      "htru2              0.730473     0.95899    0.219   0.228517\n",
      "bidding            0.859854     0.936096   0.407   0.0762417\n",
      "swarm              0.586026     0.716772   8.891   0.130746\n",
      "bank               0.868265     0.7878     0.562  -0.0804654\n",
      "sensorless         0.143907     0.642181   1.422   0.498274\n",
      "dota2              0.516164     0.544335   9.672   0.0281707\n",
      "abalone            0.183341     0.535663   0.219   0.352322\n",
      "splice             0.570533     0.749843   2.796   0.17931\n",
      "anuran             0.389383     0.895497   0.203   0.506115\n",
      "cardio             0.541571     0.616514   0.109   0.0749429\n",
      "skin               0.554448     0.882836   0.079   0.328388\n"
     ]
    }
   ],
   "source": [
    "for amount in np.arange(0.1, 0.5, 0.1):\n",
    "    print(f\"noise={amount}\")\n",
    "    func(amount)"
   ]
  },
  {
   "cell_type": "code",
   "execution_count": null,
   "metadata": {},
   "outputs": [],
   "source": [
    "Name            Initial acc    Final acc    Time        Diff\n",
    "------------  -------------  -----------  ------  ----------\n",
    "rcv1               0.524976     0.871797   3.171   0.346821\n",
    "avila              0.105041     0.50738    0.516   0.402339\n",
    "\n",
    "webkb              0.473333     0.704762   8.297   0.231429\n",
    "spamassassin       0.634171     0.825512   9.297   0.191342\n",
    "\n",
    "shuttle            0.816414     0.926034   0.094   0.109621\n",
    "smartphone         0.33675      0.729319   1.125   0.39257\n",
    "htru2              0.730473     0.95899    0.219   0.228517\n",
    "swarm              0.586026     0.716772   8.891   0.130746\n",
    "sensorless         0.143907     0.642181   1.422   0.498274\n",
    "dota2              0.516164     0.544335   9.672   0.0281707\n",
    "abalone            0.183341     0.535663   0.219   0.352322\n",
    "splice             0.570533     0.749843   2.796   0.17931\n",
    "anuran             0.389383     0.895497   0.203   0.506115\n",
    "skin               0.554448     0.882836   0.079   0.328388"
   ]
  }
 ],
 "metadata": {
  "kernelspec": {
   "display_name": "Python 3",
   "language": "python",
   "name": "python3"
  },
  "language_info": {
   "codemirror_mode": {
    "name": "ipython",
    "version": 3
   },
   "file_extension": ".py",
   "mimetype": "text/x-python",
   "name": "python",
   "nbconvert_exporter": "python",
   "pygments_lexer": "ipython3",
   "version": "3.8.5"
  }
 },
 "nbformat": 4,
 "nbformat_minor": 4
}
