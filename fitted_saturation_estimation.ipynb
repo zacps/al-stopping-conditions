{
 "cells": [
  {
   "cell_type": "code",
   "execution_count": 18,
   "id": "a5f7c417-4ad2-45ff-9113-c648c9859499",
   "metadata": {},
   "outputs": [],
   "source": [
    "import numpy as np\n",
    "import scipy\n",
    "import matplotlib.pyplot as plt\n",
    "from scipy.optimize import curve_fit\n",
    "from scipy.interpolate import CubicSpline"
   ]
  },
  {
   "cell_type": "code",
   "execution_count": 98,
   "id": "0938c012-0113-4d8a-ac9b-3ccadd43b1ce",
   "metadata": {},
   "outputs": [],
   "source": [
    "def fit_constrained(x, y):\n",
    "    def polynomial(p, x):\n",
    "        return p[0]+p[1]*x+p[2]*x**2+p[3]*x**3\n",
    "\n",
    "    def constraint_1st_der(p):\n",
    "        return p[1]+2*p[2]*x+3*p[3]*x**2\n",
    "    \n",
    "    def constraint_end_pt(p):\n",
    "        return polynomial(p,x[-1])-y[-1]\n",
    "\n",
    "    def objective(p):\n",
    "        return ((polynomial(p, x)-y)**2).sum()\n",
    "\n",
    "    x0 = np.array([y[0], (y[-1]-y[0])/(x[-1]-x[0]), 0, 0])\n",
    "    #assert np.isclose(polynomial(x0, x[-1]), y[-1]), f\"end point mismatch {polynomial(x0, x[-1])} == {y[-1]}\"\n",
    "    #assert np.isclose(polynomial(x0, x[0]) == y[0])\n",
    "    res = scipy.optimize.minimize(\n",
    "        objective, \n",
    "        x0=x0, \n",
    "        method='SLSQP', \n",
    "        constraints=(dict(type='ineq', fun=constraint_1st_der), dict(type='eq', fun=constraint_end_pt))\n",
    "    )\n",
    "    print(res)\n",
    "    return lambda x: polynomial(res.x, x)"
   ]
  },
  {
   "cell_type": "code",
   "execution_count": 80,
   "id": "b9af799f-e091-4d17-940e-7109aa7e0c3d",
   "metadata": {},
   "outputs": [],
   "source": [
    "x = np.array([10.0, 20.0, 30.0, 40.0, 50.0, 60.0, 70.0, 80.0, 90.0, 100.0, 110.0, 120.0, 130.0, 140.0, 150.0, 160.0, 170.0, 180.0, 190.0, 200.0, 210.0, 220.0, 230.0, 240.0, 250.0, 260.0, 270.0, 280.0, 290.0, 300.0, 310.0, 320.0, 330.0, 340.0, 350.0, 360.0, 370.0, 380.0, 390.0, 400.0, 410.0, 420.0, 430.0, 440.0, 450.0, 460.0, 470.0, 480.0, 490.0, 500.0, 510.0, 520.0, 530.0, 540.0, 550.0, 560.0, 570.0, 580.0, 590.0, 600.0, 610.0, 620.0, 630.0, 640.0, 650.0, 660.0, 670.0, 680.0, 690.0, 700.0, 710.0, 720.0, 730.0, 740.0, 750.0, 760.0, 770.0, 780.0, 790.0, 800.0, 810.0, 820.0, 830.0, 840.0, 850.0, 860.0, 870.0, 880.0, 890.0, 900.0, 910.0, 920.0, 930.0, 940.0, 950.0, 960.0, 970.0, 980.0, 990.0, 1000.0, 401207] )\n",
    "y = np.array([0.4743925391651562, 0.4745267983898838, 0.5012319527009724, 0.4996382459778174, 0.5172386358268255, 0.4872366716640933, 0.5201276954404076, 0.5590703294572198, 0.6399639986375175, 0.6369680289005413, 0.6520622465546349, 0.7308102544212308, 0.7434132175720463, 0.7648549130174264, 0.8182403588202095, 0.8315941791167235, 0.8381977439477681, 0.8538712652937418, 0.8559373655853827, 0.8652186560651605, 0.8658228225764345, 0.867108230339104, 0.8687168547538954, 0.8713175056625071, 0.8720434999888117, 0.875089195364576, 0.8767574905459129, 0.8781672124055524, 0.881352139569923, 0.8810537857371951, 0.8804893997369514, 0.8813546258518623, 0.8825629588744104, 0.8840000298353833, 0.8852207942676283, 0.885118856708113, 0.8835674167779278, 0.8861979030698123, 0.8857031329638718, 0.8862749778099337, 0.8870233486736929, 0.8874136949381786, 0.888244113105938, 0.8875802758281184, 0.8865310648496918, 0.8879929986300586, 0.8887413694938179, 0.8890819901195156, 0.8896289721461834, 0.8891491197318794, 0.8894002342077587, 0.8896414035558804, 0.8901610364812149, 0.8893082417760009, 0.8896712389391532, 0.8938581377251017, 0.8945891046152852, 0.8952081888181956, 0.89539714624559, 0.8965905615765016, 0.8977516552422011, 0.8978511065197772, 0.8983185275243842, 0.8984005748283844, 0.8988157839122641, 0.8986939560972335, 0.8983707394451116, 0.8986293127668091, 0.899226020432265, 0.8993006088904469, 0.8986516893042638, 0.8995691273399021, 0.9001857252608731, 0.9009415549704506, 0.9008868567677838, 0.9013468189265726, 0.9021076212000289, 0.9019758482572406, 0.9029952238523944, 0.9034502134473044, 0.9034178917820924, 0.9037858615091234, 0.9041612900819728, 0.9044720753243976, 0.9045516363464584, 0.9048151822320348, 0.9044173771217308, 0.9042731727692456, 0.9043353298177308, 0.9041687489277908, 0.9050215436330048, 0.9049121472276712, 0.9046336836504586, 0.9046958406989436, 0.9047579977474286, 0.9045789854477918, 0.9049295512012472, 0.904872366716641, 0.9058544480827035, 0.9058718520562796, 0.9516293848689854])"
   ]
  },
  {
   "cell_type": "code",
   "execution_count": 108,
   "id": "facda6b0-bb8f-438d-9400-f964003f5be3",
   "metadata": {},
   "outputs": [
    {
     "data": {
      "text/plain": [
       "(1000.0, 0.9058718520562796)"
      ]
     },
     "execution_count": 108,
     "metadata": {},
     "output_type": "execute_result"
    }
   ],
   "source": [
    "x[-2], y[-2]"
   ]
  },
  {
   "cell_type": "code",
   "execution_count": 244,
   "id": "12f45613-562d-4790-be7e-5c7b9bb26c43",
   "metadata": {},
   "outputs": [
    {
     "name": "stderr",
     "output_type": "stream",
     "text": [
      "<ipython-input-244-9261d1021212>:7: RuntimeWarning: invalid value encountered in power\n",
      "  np.power(\n"
     ]
    },
    {
     "name": "stdout",
     "output_type": "stream",
     "text": [
      "[-2.15629370e+03  9.95316014e-01  1.09529207e+00  1.11490992e+00\n",
      "  7.46900549e-01  1.15385949e+00  1.08744933e+00  1.18002399e+00\n",
      "  1.59325331e-01  1.52743732e-01 -8.06029491e-02  1.99069975e-01\n",
      "  4.03550828e-01  2.37356782e-01]\n"
     ]
    }
   ],
   "source": [
    "# Custom function curve fit\n",
    "order = 6\n",
    "def func(x, bot, top, *args):\n",
    "    bases = np.array(args[:order])\n",
    "    exponents = np.array(args[order:])\n",
    "    return top*bot+(top*(1-bot)/order)*np.sum(\n",
    "        np.power(\n",
    "            np.repeat(bases, x.shape[0]), -np.repeat(exponents, x.shape[0])/np.repeat(x, exponents.shape[0])\n",
    "        ).reshape(x.shape[0], exponents.shape[0]),\n",
    "        axis=1\n",
    "    )\n",
    "#x0 = [y[0], y[-1], 19., 1.4, 20.3, 110., 1, 1]\n",
    "x0 = [y[0], y[-1], *[1. for i in range(2*order)]]\n",
    "#x0 = [y[0], y[-1], 19., 1.4, 1, 1, 1, 20.3, 110., 1, 1, 1]\n",
    "bounds = ([0, 0, *[1 for i in range(order)], *[0 for i in range(order)]], [1, 1, *[np.inf for i in range(2*order)]])\n",
    "custom_fit = curve_fit(func, x[9:], y[9:], x0, maxfev=10000, method='dogbox')\n",
    "print(custom_fit[0])"
   ]
  },
  {
   "cell_type": "code",
   "execution_count": 302,
   "id": "6d3a2fb2-f88a-418d-9f3e-f57f049682aa",
   "metadata": {},
   "outputs": [],
   "source": [
    "order = 1\n",
    "def funch(x, *args):\n",
    "    a = args[:order]\n",
    "    b = args[order:]\n",
    "    return np.sum((1-np.repeat(a, x.shape[0])/(np.repeat(x, order)+np.repeat(b, x.shape[0]))).reshape(x.shape[0], order), axis=1)\n",
    "\n",
    "custom_fit_h = curve_fit(funch, x, y, [*[0.3]*order, *[0]*order], maxfev=10000)"
   ]
  },
  {
   "cell_type": "code",
   "execution_count": 163,
   "id": "0bf0c170-300a-498b-b107-e905b4d3e10f",
   "metadata": {},
   "outputs": [
    {
     "name": "stdout",
     "output_type": "stream",
     "text": [
      "[0.5639122188522278, 0.7806009655720669, 91.69339540517007, 414.09689625503376, 924.3682580304541, 3.592374072277848e-27, 8.409158857813224e-44, 19.214752807797, 12.359530431331576, 16.971714548821215, -2.4350108115013493, -1.825559099997269]\n"
     ]
    }
   ],
   "source": [
    "print(list(custom_fit[0]))"
   ]
  },
  {
   "cell_type": "code",
   "execution_count": 267,
   "id": "2b73257a-c70d-4dcb-878c-2b83f467da37",
   "metadata": {},
   "outputs": [
    {
     "name": "stderr",
     "output_type": "stream",
     "text": [
      "/home/zac/.cache/pypoetry/virtualenvs/research-vDwbEF2m-py3.8/lib/python3.8/site-packages/IPython/core/interactiveshell.py:3437: RankWarning: Polyfit may be poorly conditioned\n",
      "  exec(code_obj, self.user_global_ns, self.user_ns)\n"
     ]
    }
   ],
   "source": [
    "# Weighted polynomial fit\n",
    "w = np.full(len(y[9:]), 1e-3)\n",
    "w[-1] = 10.0\n",
    "w[0] = 1.0\n",
    "w[-2] = 1.0\n",
    "#w[20] = 1.0\n",
    "poly_fit = np.polyfit(x[9:], y[9:], 10, w=None)"
   ]
  },
  {
   "cell_type": "code",
   "execution_count": 249,
   "id": "d2435988-8ebe-4e07-a07d-3a93b6ff83f6",
   "metadata": {
    "collapsed": true,
    "jupyter": {
     "outputs_hidden": true
    },
    "tags": []
   },
   "outputs": [
    {
     "name": "stdout",
     "output_type": "stream",
     "text": [
      "     fun: 15.146229302961201\n",
      "     jac: array([-7.44767683e+01, -3.95673644e+04,  3.86094924e+14,  6.21485675e+25])\n",
      " message: 'Inequality constraints incompatible'\n",
      "    nfev: 5\n",
      "     nit: 1\n",
      "    njev: 1\n",
      "  status: 4\n",
      " success: False\n",
      "       x: array([4.74392539e-01, 1.18953244e-06, 0.00000000e+00, 0.00000000e+00])\n"
     ]
    }
   ],
   "source": [
    "# Constrainted polynomial fit\n",
    "poly = fit_constrained(x, y)"
   ]
  },
  {
   "cell_type": "code",
   "execution_count": 56,
   "id": "9bec564b-5198-4cac-9b88-1646c4d04afc",
   "metadata": {},
   "outputs": [],
   "source": [
    "# Cubic spline\n",
    "cs = scipy.interpolate.CubicSpline([x[0], x[20], x[-2], x[-1]], [y[0], y[20], y[-2], y[-1]], bc_type=('not-a-knot', 'clamped'))\n",
    "cs = CubicSpline(x, y, bc_type=('not-a-knot', 'clamped'))"
   ]
  },
  {
   "cell_type": "code",
   "execution_count": 245,
   "id": "1e718286-fee9-4878-b003-bd3b9279a5eb",
   "metadata": {},
   "outputs": [
    {
     "name": "stdout",
     "output_type": "stream",
     "text": [
      "Final pred 0.9951766435542595 final real 0.9516293848689854\n"
     ]
    }
   ],
   "source": [
    "print(\"Final pred\", func(np.array([x[-1]]), *custom_fit[0])[0], \"final real\", y[-1])"
   ]
  },
  {
   "cell_type": "code",
   "execution_count": 303,
   "id": "235c9ba6-7a12-46f5-890c-cdef3b3d2c0c",
   "metadata": {},
   "outputs": [
    {
     "data": {
      "image/png": "[encoded data removed]",
      "text/plain": [
       "<Figure size 720x432 with 1 Axes>"
      ]
     },
     "metadata": {
      "needs_background": "light"
     },
     "output_type": "display_data"
    }
   ],
   "source": [
    "fig, ax = plt.subplots(figsize=(10,6))\n",
    "plt_x = np.arange(x[0], 1500, 10)\n",
    "models = {\n",
    "    #\"initial\": func(plt_x, *x0),\n",
    "    #\"exp & polynomial\": func(plt_x, *custom_fit[0]),\n",
    "    #\"Poly\": np.polyval(poly_fit, plt_x),\n",
    "    #\"Constrained poly\": poly(plt_x),\n",
    "    #\"Cubic spline\": cs(plt_x),\n",
    "    \"Hyperbola\": funch(plt_x, *custom_fit_h[0])\n",
    "}\n",
    "ax.plot(x[:-1],y[:-1], ls='', marker='.', label='data')\n",
    "#ax.plot(x[:9], y[:9], ls='', marker='+', color='red')\n",
    "for i, (name, model) in enumerate(models.items()):\n",
    "    ax.plot(plt_x, model, label=name)\n",
    "ax.set_ylim((0.4,1))\n",
    "fig.legend(loc='center');"
   ]
  },
  {
   "cell_type": "code",
   "execution_count": null,
   "id": "8cb28448-fde0-45c2-93f3-ba443f0b4db4",
   "metadata": {},
   "outputs": [],
   "source": []
  }
 ],
 "metadata": {
  "kernelspec": {
   "display_name": "Python 3",
   "language": "python",
   "name": "python3"
  },
  "language_info": {
   "codemirror_mode": {
    "name": "ipython",
    "version": 3
   },
   "file_extension": ".py",
   "mimetype": "text/x-python",
   "name": "python",
   "nbconvert_exporter": "python",
   "pygments_lexer": "ipython3",
   "version": "3.8.8"
  }
 },
 "nbformat": 4,
 "nbformat_minor": 5
}
