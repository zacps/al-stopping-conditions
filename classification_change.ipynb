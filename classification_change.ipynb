{
 "cells": [
  {
   "cell_type": "code",
   "execution_count": 1,
   "id": "703bca98-eb31-443c-b5be-d4557038bd17",
   "metadata": {},
   "outputs": [],
   "source": [
    "from libdatasets import *\n",
    "import librun\n",
    "import libstop\n",
    "from importlib import reload\n",
    "from libadversarial import uncertainty_stop\n",
    "from libstop import rank_stop_conds\n",
    "from dotenv import load_dotenv; load_dotenv();\n",
    "import libactive; reload(libactive)\n",
    "import matplotlib.pyplot as plt\n",
    "import math\n",
    "import seaborn as sns"
   ]
  },
  {
   "cell_type": "code",
   "execution_count": 3,
   "id": "11e0e60d-d70c-46b2-a862-b7224609538d",
   "metadata": {},
   "outputs": [],
   "source": [
    "matrix = {\n",
    "    # Dataset fetchers should cache if possible\n",
    "    # Lambda wrapper required for function to be pickleable (sent to other threads via joblib)\n",
    "    \"datasets\": [\n",
    "        #(\"anuran\", wrap(anuran, None)),\n",
    "        #(\"avila\", wrap(avila, None)),\n",
    "        #(\"covertype\", wrap(covertype, None)),\n",
    "        #(\"rcv1\", wrap(rcv1, None)),\n",
    "        #(\"sensorless\", wrap(sensorless, None)),\n",
    "        (\"spamassassin\", wrap(spamassassin, None)),\n",
    "        #(\"splice\", wrap(splice, None)),\n",
    "        #(\"swarm\", wrap(swarm, None)),\n",
    "        #(\"smartphone\", wrap(smartphone, None))\n",
    "    ],\n",
    "    \"dataset_mutators\": {\n",
    "        \"none\": (lambda *x, **kwargs: x),\n",
    "    },\n",
    "    \"methods\": [\n",
    "        (\"uncertainty\", partial(uncertainty_stop, n_instances=10)),\n",
    "    ],\n",
    "    \"models\": [\n",
    "        \"svm-linear\"\n",
    "    ],\n",
    "    \"meta\": {\n",
    "        \"dataset_size\": 1000,\n",
    "        \"labelled_size\": 10,\n",
    "        \"test_size\": 0.5,\n",
    "        \"n_runs\": 10,\n",
    "        \"ret_classifiers\": True,\n",
    "        \"ensure_y\": True,\n",
    "        \"stop_info\": True,\n",
    "        \"aggregate\": False,\n",
    "        \"stop_function\": (\"res500\", lambda learner: learner.y_training.shape[0] >= 1000),\n",
    "        \"pool_subsample\": 1000\n",
    "    }\n",
    "}"
   ]
  },
  {
   "cell_type": "code",
   "execution_count": 4,
   "id": "9f6e32af-1997-41b6-a8dc-9ad0ebb7f563",
   "metadata": {},
   "outputs": [
    {
     "name": "stdout",
     "output_type": "stream",
     "text": [
      "['/home/zac/.cache/pypoetry/virtualenvs/research-vDwbEF2m-py3.8/lib/python3.8/site-packages/ipykernel_launcher.py', '-f', '/home/zac/.local/share/jupyter/runtime/kernel-b5bd5550-f2d5-4fe1-8c8a-c9de100b96ef.json']\n",
      "Current commit: 9d93dd0\n",
      "\n"
     ]
    },
    {
     "data": {
      "application/vnd.jupyter.widget-view+json": {
       "model_id": "",
       "version_major": 2,
       "version_minor": 0
      },
      "text/plain": [
       "Experiment:   0%|          | 0/1 [00:00<?, ?it/s]"
      ]
     },
     "metadata": {},
     "output_type": "display_data"
    }
   ],
   "source": [
    "results = librun.run(matrix, force_cache=True, fragment_run_start=0, fragment_run_end=1)\n",
    "results_plots = [result[0] for result in results]\n",
    "classifiers = [result[1] for result in results]\n",
    "classifiers = [clf for clf in classifiers]"
   ]
  },
  {
   "cell_type": "code",
   "execution_count": 5,
   "id": "ddf8806c-9809-4035-8944-4c3171894c96",
   "metadata": {},
   "outputs": [],
   "source": [
    "reload(libstop); from libstop import *\n",
    "def acc_wrapper(**kwargs):\n",
    "    x, diffs = first_acc(**kwargs)\n",
    "    return [np.nan] +diffs\n",
    "\n",
    "stuff = {\n",
    "    #'GOAL': [partial(ZPS, order=2), acc_wrapper, None], \n",
    "    #'SSNCut': [SSNCut, SSNCut_values, None], \n",
    "    #'SC_entropy_mcs': [SC_entropy_mcs, 'entropy_max', 1e-2], \n",
    "    #'SC_oracle_acc': [SC_oracle_acc_mcs, SC_oracle_acc_mcs_values, 0.9], \n",
    "    #'SC_mes': [SC_mes, 'expected_error_min', 1e-2], \n",
    "    #'Stabilizing Predictions': [stabilizing_predictions, kappa_metric, 0.99], \n",
    "    #'Performance Convergence': [performance_convergence, fscore, None], \n",
    "    #'Uncertainty Convergence': [uncertainty_convergence, partial(metric_selected, metric=classifier_entropy), None], \n",
    "    #'Max Confidence': [max_confidence, partial(metric_selected, metric=classifier_entropy), 1e-3],\n",
    "    #'EVM': [EVM, 'uncertainty_variance_selected', None], \n",
    "    #'VM': [VM, 'uncertainty_variance_selected', None], \n",
    "    #'N support vectors': [None, 'n_support', None], \n",
    "    #'Contradictory Information': [contradictory_information, 'contradictory_information', None], \n",
    "    #'Kappa First': [None, kappa_metric_first, None],\n",
    "    'Classification Change': [classification_change, classification_change_values, 1],\n",
    "    #'Overall Uncertainty': [overall_uncertainty, 'uncertainty_average', 1e-2]\n",
    "}\n",
    "\n",
    "conditions = [x[0] for x in stuff.values()]\n",
    "metric_values = [x[1] for x in stuff.values()]\n",
    "thresholds = [x[2] for x in stuff.values()]\n",
    "names = list(stuff.keys())"
   ]
  },
  {
   "cell_type": "code",
   "execution_count": 6,
   "id": "e053c6de-58fb-4ee1-908f-25cff9549abd",
   "metadata": {},
   "outputs": [],
   "source": [
    "results = results_plots[0][1]\n",
    "conf = results_plots[0][0]\n",
    "X, y = getattr(libdatasets, conf.dataset_name)(None)\n",
    "unlabelled_pools = []\n",
    "y_oracles = []\n",
    "# WARN: This is not the same as the job numbers! Unfortunately they're not easily accessible\n",
    "for i in range(len(results)):\n",
    "    _, X_unlabelled, _, Y_oracle, _, _ = active_split(\n",
    "        X, y, labeled_size=conf.meta['labelled_size'], test_size=conf.meta['test_size'], random_state=check_random_state(i), ensure_y=conf.meta['ensure_y']\n",
    "    )\n",
    "    unlabelled_pools.append(X_unlabelled)\n",
    "    y_oracles.append(Y_oracle)"
   ]
  },
  {
   "cell_type": "markdown",
   "id": "f4e908e7-75cb-4d35-9ddb-b3c696a36434",
   "metadata": {},
   "source": [
    "### Evaluate the metrics"
   ]
  },
  {
   "cell_type": "code",
   "execution_count": 7,
   "id": "120f0428-b484-42e1-9779-f45c07a3751a",
   "metadata": {},
   "outputs": [],
   "source": [
    "computed = {}"
   ]
  },
  {
   "cell_type": "code",
   "execution_count": 8,
   "id": "c2941898-9257-4e59-8a46-3694bba3741e",
   "metadata": {},
   "outputs": [],
   "source": [
    "for metric, name in zip(metric_values, names):\n",
    "    if name in computed:\n",
    "        continue\n",
    "    if isinstance(metric, str):\n",
    "        values = np.array([results[i][metric] for i in range(len(results))])\n",
    "    else:\n",
    "        values = np.array([metric(**results[i], classifiers=classifiers[0][i], X_unlabelled=unlabelled_pools[i], Y_oracle=y_oracles[i]) for i in range(len(results))])\n",
    "\n",
    "    computed[name] = values"
   ]
  },
  {
   "cell_type": "markdown",
   "id": "a43754fe-cd18-42f5-8da5-8d401eb972e4",
   "metadata": {},
   "source": [
    "### Evaluate the conditions"
   ]
  },
  {
   "cell_type": "code",
   "execution_count": 10,
   "id": "d65cd813-6949-4049-9bd4-5ee828e7973d",
   "metadata": {},
   "outputs": [],
   "source": [
    "computed_conds = {}"
   ]
  },
  {
   "cell_type": "code",
   "execution_count": 11,
   "id": "7274b5ca-ebf4-44f4-88ed-ed962053fee7",
   "metadata": {},
   "outputs": [
    {
     "name": "stdout",
     "output_type": "stream",
     "text": [
      "38\n",
      "28\n"
     ]
    }
   ],
   "source": [
    "for cond, name in zip(conditions, names):\n",
    "    if name in computed_conds:\n",
    "        continue\n",
    "    if cond is None:\n",
    "        values = [None] * len(values)\n",
    "    else:\n",
    "        try:\n",
    "            values = np.array([cond(**results[i], pre=computed[name][i], classifiers=classifiers[0][i], X_unlabelled=unlabelled_pools[i], Y_oracle=y_oracles[i]) for i in range(len(results))])\n",
    "        except FailedToTerminate:\n",
    "            values = [None] * len(results)\n",
    "    computed_conds[name] = values"
   ]
  },
  {
   "cell_type": "code",
   "execution_count": 12,
   "id": "8681d0b0-13ad-4a30-b3d0-d8b562288135",
   "metadata": {},
   "outputs": [
    {
     "data": {
      "text/plain": [
       "['Classification Change']"
      ]
     },
     "execution_count": 12,
     "metadata": {},
     "output_type": "execute_result"
    }
   ],
   "source": [
    "list(computed_conds.keys())"
   ]
  },
  {
   "cell_type": "code",
   "execution_count": 22,
   "id": "2dad0790-5412-40fe-bf65-b020f29b2f2a",
   "metadata": {},
   "outputs": [
    {
     "data": {
      "text/plain": [
       "{'Classification Change': array([390., 290.])}"
      ]
     },
     "execution_count": 22,
     "metadata": {},
     "output_type": "execute_result"
    }
   ],
   "source": [
    "computed_conds"
   ]
  },
  {
   "cell_type": "markdown",
   "id": "371879ef-864b-4762-97d4-edf4395e2870",
   "metadata": {},
   "source": [
    "### Create the plot"
   ]
  },
  {
   "cell_type": "code",
   "execution_count": 13,
   "id": "9ad17298-dff4-4dc3-b455-7e5d1645246f",
   "metadata": {},
   "outputs": [],
   "source": [
    "import seaborn as sns\n",
    "cm = sns.color_palette('gist_ncar', 7, desat=0.4)"
   ]
  },
  {
   "cell_type": "code",
   "execution_count": 21,
   "id": "9ae11616-19b3-49b1-a852-9c60f62aaacb",
   "metadata": {},
   "outputs": [
    {
     "data": {
      "image/png": "[encoded data removed]",
      "text/plain": [
       "<Figure size 576x432 with 2 Axes>"
      ]
     },
     "metadata": {
      "needs_background": "light"
     },
     "output_type": "display_data"
    }
   ],
   "source": [
    "fig = plt.figure(figsize=(8,6))\n",
    "plt.subplots_adjust(wspace=10, hspace=0.3)\n",
    "from matplotlib.gridspec import GridSpec\n",
    "gs = fig.add_gridspec(1,1)\n",
    "threshold_legend = True\n",
    "stop_legend = True\n",
    "for j, (metric, name, threshold) in enumerate(zip(metric_values, names, thresholds)):\n",
    "    x = j%5\n",
    "    ax = fig.add_subplot(gs[j//5, x*4:(x+1)*4])\n",
    "        \n",
    "    values = computed[name]\n",
    "        \n",
    "    ax.plot(results[0].x[results[0].x.shape[0]-values[0].shape[0]:], np.mean(values, axis=0), color=cm[0], label=\"Metric\" if j == 0 else None)\n",
    "    \n",
    "    for stop in computed_conds[name]:\n",
    "        if stop is None:\n",
    "            continue\n",
    "        ax.axvline(stop, color='black', label='Stop Point' if stop_legend else None)\n",
    "        stop_legend = False\n",
    "        \n",
    "    if threshold is not None:\n",
    "        ax.axhline(threshold, color='gray', ls='--', label='Threshold' if threshold_legend else None)\n",
    "        threshold_legend = False\n",
    "    \n",
    "    ax2 = ax.twinx()\n",
    "    ax2.plot(results[0].x, np.mean(np.array([results[i]['accuracy_score'] for i in range(len(results))]), axis=0), color=cm[6], label=\"Accuracy\" if j == 0 else None)\n",
    "    ax2.plot(results[0].x, np.mean(np.array([results[i]['f1_score'] for i in range(len(results))]), axis=0), color=cm[2], label=\"F1 Score\" if j == 0 else None)\n",
    "\n",
    "    ax2.set_ylabel('Accuracy')\n",
    "    ax.set_title(name)\n",
    "    \n",
    "    if j != 4 and j != 9:\n",
    "        ax2.axes.get_yaxis().set_visible(False)\n",
    "    \n",
    "    if j > 4:\n",
    "        ax.set_xlabel(\"Instances\")\n",
    "       \n",
    "\n",
    "fig.legend(bbox_to_anchor=(0.93, 0.25))\n",
    "fig.tight_layout()"
   ]
  },
  {
   "cell_type": "code",
   "execution_count": 17,
   "id": "21708d2d-1d7d-475b-8c5d-1e391f3550aa",
   "metadata": {},
   "outputs": [],
   "source": [
    "fig.savefig('figures/metrics_comparison_svm.png')"
   ]
  },
  {
   "cell_type": "code",
   "execution_count": null,
   "id": "f52a3812-4837-4322-86eb-60335f74b77b",
   "metadata": {},
   "outputs": [],
   "source": []
  }
 ],
 "metadata": {
  "kernelspec": {
   "display_name": "Python 3",
   "language": "python",
   "name": "python3"
  },
  "language_info": {
   "codemirror_mode": {
    "name": "ipython",
    "version": 3
   },
   "file_extension": ".py",
   "mimetype": "text/x-python",
   "name": "python",
   "nbconvert_exporter": "python",
   "pygments_lexer": "ipython3",
   "version": "3.8.8"
  }
 },
 "nbformat": 4,
 "nbformat_minor": 5
}
