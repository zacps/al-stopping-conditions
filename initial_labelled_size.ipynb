{
 "cells": [
  {
   "cell_type": "markdown",
   "metadata": {},
   "source": [
    "# Choosing the initial labelled set size"
   ]
  },
  {
   "cell_type": "markdown",
   "metadata": {},
   "source": [
    "* ALDataset: 20\n",
    "* Active Learning by Learning: 1 from each class\n",
    "* Logistic Regression: 1 from each class\n",
    "* Curious Machines: 5\n",
    "* Support Vector Machine Active Learning: 1 from each class\n",
    "* Adversarial Active Learning: 10 (1%)\n",
    "* Adversarial Active Learning for Deep Networks: 100\n",
    "* Active Learning via Query Synthesis and Nearest Neighbour: 1 from each class\n",
    "* Discriminative Active Learning: 100\n",
    "* Active Learning for Convolutional Neural Networks: 1,000, 10%\n",
    "* Paired Sampling in Density-Sensitive Active Learning: 1 from each class"
   ]
  },
  {
   "cell_type": "markdown",
   "metadata": {},
   "source": [
    "### Takeaways\n",
    "\n",
    "1 per class is the most common, but quite bad for my method. Large sizes (100+) are not *uncommon*, so it's not unreasonable to justify testing with 10-100 instances."
   ]
  }
 ],
 "metadata": {
  "kernelspec": {
   "display_name": "Python 3",
   "language": "python",
   "name": "python3"
  },
  "language_info": {
   "codemirror_mode": {
    "name": "ipython",
    "version": 3
   },
   "file_extension": ".py",
   "mimetype": "text/x-python",
   "name": "python",
   "nbconvert_exporter": "python",
   "pygments_lexer": "ipython3",
   "version": "3.8.5"
  }
 },
 "nbformat": 4,
 "nbformat_minor": 4
}
