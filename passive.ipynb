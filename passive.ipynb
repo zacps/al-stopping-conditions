{
 "cells": [
  {
   "cell_type": "code",
   "execution_count": 9,
   "metadata": {},
   "outputs": [
    {
     "data": {
      "text/plain": [
       "True"
      ]
     },
     "execution_count": 9,
     "metadata": {},
     "output_type": "execute_result"
    }
   ],
   "source": [
    "from libactive import active_split\n",
    "from sklearn.svm import SVC\n",
    "import numpy as np\n",
    "import pickle\n",
    "from sklearn.metrics import accuracy_score, roc_auc_score, f1_score\n",
    "from sklearn.utils import check_random_state\n",
    "from joblib import Parallel, delayed\n",
    "import scipy\n",
    "from libutil import out_dir\n",
    "import os\n",
    "import libdatasets\n",
    "from dotenv import load_dotenv; load_dotenv()"
   ]
  },
  {
   "cell_type": "code",
   "execution_count": 22,
   "metadata": {},
   "outputs": [],
   "source": [
    "def eval_one(results, name, dataset, run, fname):\n",
    "    print(f\"  {run}\")\n",
    "    if run in results.keys():\n",
    "        return (run, results[run])\n",
    "\n",
    "    X,y = dataset()\n",
    "\n",
    "    X_labelled, X_unlabelled, y_labelled, y_oracle, X_test, y_test = active_split(\n",
    "        X, y, labeled_size=10, test_size=0.5, random_state=check_random_state(run), ensure_y=True\n",
    "\n",
    "    )\n",
    "    if isinstance(X_labelled, scipy.sparse.csr_matrix):\n",
    "        X = scipy.sparse.vstack((X_labelled, X_unlabelled))\n",
    "    else:\n",
    "        X = np.concatenate((X_labelled, X_unlabelled))\n",
    "    y = np.concatenate((y_labelled, y_oracle))\n",
    "\n",
    "    clf = SVC(probability=True, kernel='linear')\n",
    "    clf.fit(X, y)\n",
    "    predicted = clf.predict(X_test)\n",
    "    predict_proba = clf.predict_proba(X_test)\n",
    "    unique_labels = np.unique(y_labelled)\n",
    "\n",
    "    if len(unique_labels) > 2 or len(unique_labels.shape) > 1:\n",
    "        roc_auc = roc_auc_score(\n",
    "            y_test, predict_proba, multi_class=\"ovr\"\n",
    "        )\n",
    "    else:\n",
    "        roc_auc = roc_auc_score(\n",
    "            y_test, predict_proba[:, 1]\n",
    "    )\n",
    "\n",
    "    result = [\n",
    "        accuracy_score(y_test, predicted),\n",
    "        f1_score(\n",
    "            y_test,\n",
    "            predicted,\n",
    "            average=\"micro\" if len(unique_labels) > 2 else \"binary\",\n",
    "            pos_label=unique_labels[1] if len(unique_labels) <= 2 else 1,\n",
    "        ),\n",
    "        roc_auc\n",
    "    ]\n",
    "\n",
    "    return (run, result)\n",
    "    \n",
    "def run_passive(datasets, runs):\n",
    "    all_results = {}\n",
    "    for name, dataset in datasets:\n",
    "        if name == 'newsgroups':\n",
    "            continue\n",
    "        print(name)\n",
    "        fname = f\"{out_dir()}{os.path.sep}passive{os.path.sep}{name}.pickle\"\n",
    "        try:\n",
    "            with open(fname, \"rb\") as f:\n",
    "                results = pickle.load(f)\n",
    "                print(f\"Have results for {name}\")\n",
    "                if all([run in results.keys() for run in runs]):\n",
    "                    all_results[name] = results\n",
    "                    continue\n",
    "        except (FileNotFoundError, EOFError):\n",
    "            results = {}\n",
    "\n",
    "        # os.cpu_count()\n",
    "        r = Parallel(n_jobs=min(2, len(runs)))(delayed(eval_one)(results, name, dataset, run, fname) for run in runs)\n",
    "        for run, result in r:\n",
    "            results[run] = result\n",
    "        with open(fname, \"wb\") as f:\n",
    "            pickle.dump(results, f)\n",
    "        all_results[name] = results\n",
    "    return all_results"
   ]
  },
  {
   "cell_type": "code",
   "execution_count": 11,
   "metadata": {},
   "outputs": [],
   "source": [
    "from nesi_noise import matrix"
   ]
  },
  {
   "cell_type": "code",
   "execution_count": 12,
   "metadata": {},
   "outputs": [],
   "source": [
    "def key(dataset):\n",
    "    return dataset[1]()[0].shape[0]\n",
    "\n",
    "datasets = sorted(matrix['datasets'], key=key)"
   ]
  },
  {
   "cell_type": "code",
   "execution_count": 10,
   "metadata": {},
   "outputs": [
    {
     "name": "stdout",
     "output_type": "stream",
     "text": [
      "splice\n",
      "webkb\n",
      "spamassassin\n",
      "anuran\n",
      "smartphone\n",
      "newsgroups\n",
      "avila\n",
      "swarm\n",
      "sensorless\n",
      "rcv1\n"
     ]
    }
   ],
   "source": [
    "for name, _ in datasets:\n",
    "    print(name)"
   ]
  },
  {
   "cell_type": "code",
   "execution_count": 13,
   "metadata": {},
   "outputs": [],
   "source": [
    "datasets = datasets[:-1]"
   ]
  },
  {
   "cell_type": "code",
   "execution_count": 14,
   "metadata": {},
   "outputs": [
    {
     "name": "stdout",
     "output_type": "stream",
     "text": [
      "splice\n",
      "webkb\n",
      "spamassassin\n",
      "anuran\n",
      "smartphone\n",
      "newsgroups\n",
      "avila\n",
      "swarm\n",
      "sensorless\n"
     ]
    }
   ],
   "source": [
    "for name, _ in datasets:\n",
    "    print(name)"
   ]
  },
  {
   "cell_type": "code",
   "execution_count": 23,
   "metadata": {},
   "outputs": [
    {
     "name": "stdout",
     "output_type": "stream",
     "text": [
      "splice\n",
      "Have results for splice\n",
      "webkb\n",
      "Have results for webkb\n",
      "spamassassin\n",
      "Have results for spamassassin\n",
      "anuran\n",
      "Have results for anuran\n",
      "smartphone\n",
      "Have results for smartphone\n",
      "avila\n",
      "Have results for avila\n",
      "swarm\n",
      "Have results for swarm\n",
      "sensorless\n",
      "Have results for sensorless\n"
     ]
    },
    {
     "data": {
      "text/plain": [
       "{'splice': {0: [0.9172413793103448, 0.9172413793103448, 0.9846323734844935],\n",
       "  1: [0.9178683385579938, 0.9178683385579938, 0.984509108979941],\n",
       "  2: [0.915987460815047, 0.915987460815047, 0.981412330643574],\n",
       "  3: [0.9197492163009404, 0.9197492163009404, 0.9840467339806972],\n",
       "  4: [0.9172413793103448, 0.9172413793103448, 0.9819332179533938],\n",
       "  5: [0.9178683385579938, 0.9178683385579938, 0.9858522249646327],\n",
       "  6: [0.9210031347962383, 0.9210031347962383, 0.9837752293884711],\n",
       "  7: [0.9178683385579938, 0.9178683385579938, 0.9826761646715285],\n",
       "  8: [0.9322884012539185, 0.9322884012539185, 0.9865827065297861],\n",
       "  9: [0.903448275862069, 0.903448275862069, 0.9819747135813492]},\n",
       " 'webkb': {0: [0.8904761904761904, 0.8904761904761904, 0.9749807057688898],\n",
       "  1: [0.8980952380952381, 0.8980952380952381, 0.9745932229742071],\n",
       "  2: [0.8919047619047619, 0.8919047619047619, 0.9765969663419309],\n",
       "  3: [0.8990476190476191, 0.8990476190476191, 0.9756546514689446],\n",
       "  4: [0.8919047619047619, 0.8919047619047619, 0.9728912477220388],\n",
       "  5: [0.8933333333333333, 0.8933333333333333, 0.972049577451543],\n",
       "  6: [0.8895238095238095, 0.8895238095238095, 0.974654119854597],\n",
       "  7: [0.8852380952380953, 0.8852380952380953, 0.968394460465857],\n",
       "  8: [0.8852380952380953, 0.8852380952380953, 0.9761659938124868],\n",
       "  9: [0.9028571428571428, 0.9028571428571428, 0.9774635096024105]},\n",
       " 'spamassassin': {0: [0.9847984137475215,\n",
       "   0.9758403361344539,\n",
       "   0.9945101916641315],\n",
       "  1: [0.9861202908129544, 0.9781704781704781, 0.9922353315923462],\n",
       "  2: [0.9838070059484468, 0.9755854509217737, 0.9907149640482974],\n",
       "  3: [0.9834765366820886, 0.9746450304259635, 0.9927013351995856],\n",
       "  4: [0.9861202908129544, 0.977395048439182, 0.9952878338891167],\n",
       "  5: [0.9857898215465961, 0.9773326304691619, 0.9927345542420056],\n",
       "  6: [0.9824851288830139, 0.9718832891246685, 0.9924789153193638],\n",
       "  7: [0.981163251817581, 0.9701726844583988, 0.9917742895873716],\n",
       "  8: [0.981163251817581, 0.9701726844583988, 0.9897870389028869],\n",
       "  9: [0.9857898215465961, 0.9771398192450824, 0.9927328700270389]},\n",
       " 'anuran': {0: [0.9663702056698166, 0.9663702056698166, 0.996308286494693],\n",
       "  1: [0.9677598665925514, 0.9677598665925514, 0.9873598453245199],\n",
       "  2: [0.9644246803779878, 0.9644246803779878, 0.9945910803384184],\n",
       "  3: [0.9635908838243469, 0.9635908838243469, 0.9958122959555531],\n",
       "  4: [0.9647026125625348, 0.9647026125625348, 0.9949181887239481],\n",
       "  5: [0.9694274596998332, 0.9694274596998332, 0.9950012461027103],\n",
       "  6: [0.9608115619788772, 0.9608115619788772, 0.9960396663717963],\n",
       "  7: [0.9680377987770984, 0.9680377987770984, 0.9954315848149754],\n",
       "  8: [0.9638688160088938, 0.9638688160088938, 0.9974566232067771],\n",
       "  9: [0.9638688160088938, 0.9638688160088938, 0.996745183585149]},\n",
       " 'smartphone': {0: [0.9730966325036603,\n",
       "   0.9730966325036603,\n",
       "   0.9984601153310173],\n",
       "  1: [0.9692532942898975, 0.9692532942898975, 0.9981437480744498],\n",
       "  2: [0.9690702781844802, 0.9690702781844802, 0.9984107297115581],\n",
       "  3: [0.970900439238653, 0.970900439238653, 0.998345027674822],\n",
       "  4: [0.972913616398243, 0.972913616398243, 0.9981952338427426],\n",
       "  5: [0.9710834553440703, 0.9710834553440703, 0.9986149451318601],\n",
       "  6: [0.972913616398243, 0.972913616398243, 0.9989710909215673],\n",
       "  7: [0.9663250366032211, 0.9663250366032211, 0.9983595352705414],\n",
       "  8: [0.9692532942898975, 0.9692532942898975, 0.9986864459662755],\n",
       "  9: [0.9723645680819912, 0.9723645680819912, 0.9985021620179314]},\n",
       " 'avila': {0: [0.5719762315506997, 0.5719762315506997, 0.8885767728939662],\n",
       "  1: [0.5333525014376078, 0.5333525014376078, 0.8888679266442058],\n",
       "  2: [0.585010542457351, 0.585010542457351, 0.8922922203379354],\n",
       "  3: [0.5614337741997316, 0.5614337741997316, 0.8900105482346801],\n",
       "  4: [0.5351734713436841, 0.5351734713436841, 0.898112984818098],\n",
       "  5: [0.5652673950546291, 0.5652673950546291, 0.8947146036487427],\n",
       "  6: [0.5596128042936553, 0.5596128042936553, 0.8947625566545803],\n",
       "  7: [0.550987157370136, 0.550987157370136, 0.8953348636234103],\n",
       "  8: [0.5297105616254553, 0.5297105616254553, 0.8974493021425113],\n",
       "  9: [0.5695802185163887, 0.5695802185163887, 0.8800077642947537]},\n",
       " 'swarm': {0: [0.9889240506329114, 0.9888, 0.9989378548530378],\n",
       "  1: [0.9872584943371085, 0.9872233820459291, 0.9987489463584951],\n",
       "  2: [0.9974183877415057, 0.9974095429096682, 0.9998983839074287],\n",
       "  3: [0.9878414390406396, 0.9879058979456594, 0.9990240680861415],\n",
       "  4: [0.9975849433710859, 0.9975819227882933, 0.9999508430350144],\n",
       "  5: [0.9880079946702198, 0.9881520487082442, 0.9990689219169472],\n",
       "  6: [0.9985842771485676, 0.9986082685223087, 0.999963760691255],\n",
       "  7: [0.9976682211858761, 0.9976962316932698, 0.9999594940046549],\n",
       "  8: [0.998834110592938, 0.9988362427265169, 0.9999256268737707],\n",
       "  9: [0.9981678880746169, 0.9981776010603048, 0.999943435410271]},\n",
       " 'sensorless': {0: [0.9244573577166296,\n",
       "   0.9244573577166296,\n",
       "   0.9957089528493461],\n",
       "  1: [0.927909759015553, 0.927909759015553, 0.9958893518430244],\n",
       "  2: [0.9283541274995727, 0.9283541274995727, 0.9958271442268631],\n",
       "  3: [0.9277730302512391, 0.9277730302512391, 0.9957252179235307],\n",
       "  4: [0.9246966330541788, 0.9246966330541788, 0.9957011991744575],\n",
       "  5: [0.9251410015381986, 0.9251410015381986, 0.9956653601076805],\n",
       "  6: [0.9293112288497692, 0.9293112288497692, 0.9961147568448236],\n",
       "  7: [0.9312254315501624, 0.9312254315501624, 0.9961045354839768],\n",
       "  8: [0.9305759699196718, 0.9305759699196718, 0.9960983497971726],\n",
       "  9: [0.9308494274482995, 0.9308494274482995, 0.9960980452334911]}}"
      ]
     },
     "execution_count": 23,
     "metadata": {},
     "output_type": "execute_result"
    }
   ],
   "source": [
    "run_passive(datasets, range(10))"
   ]
  },
  {
   "cell_type": "code",
   "execution_count": null,
   "metadata": {},
   "outputs": [],
   "source": [
    "k"
   ]
  }
 ],
 "metadata": {
  "kernelspec": {
   "display_name": "Python 3",
   "language": "python",
   "name": "python3"
  },
  "language_info": {
   "codemirror_mode": {
    "name": "ipython",
    "version": 3
   },
   "file_extension": ".py",
   "mimetype": "text/x-python",
   "name": "python",
   "nbconvert_exporter": "python",
   "pygments_lexer": "ipython3",
   "version": "3.8.8"
  }
 },
 "nbformat": 4,
 "nbformat_minor": 4
}
