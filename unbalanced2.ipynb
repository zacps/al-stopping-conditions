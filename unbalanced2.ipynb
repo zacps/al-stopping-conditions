{
 "cells": [
  {
   "cell_type": "code",
   "execution_count": 336,
   "metadata": {},
   "outputs": [],
   "source": [
    "from importlib import reload\n",
    "from nesi_unbalanced import unbalanced2\n",
    "from libdatasets import *\n",
    "import libdatasets\n",
    "from libactive import active_split\n",
    "from dotenv import load_dotenv; load_dotenv()\n",
    "import numpy as np\n",
    "import nesi_unbalanced\n",
    "import scipy"
   ]
  },
  {
   "cell_type": "code",
   "execution_count": 14,
   "metadata": {},
   "outputs": [],
   "source": [
    "reload(libdatasets); from libdatasets import *"
   ]
  },
  {
   "cell_type": "code",
   "execution_count": 302,
   "metadata": {},
   "outputs": [],
   "source": [
    "X, y = anuran(None)"
   ]
  },
  {
   "cell_type": "code",
   "execution_count": 303,
   "metadata": {},
   "outputs": [
    {
     "name": "stdout",
     "output_type": "stream",
     "text": [
      "AdenomeraAndre            9%\n",
      "AdenomeraHylaedactylus    48%\n",
      "Ameeregatrivittata        8%\n",
      "HylaMinuta                4%\n",
      "HypsiboasCinerascens      7%\n",
      "HypsiboasCordobae         16%\n",
      "LeptodactylusFuscus       4%\n",
      "OsteocephalusOophagus     2%\n",
      "Rhinellagranulosa         1%\n",
      "ScinaxRuber               2%\n"
     ]
    }
   ],
   "source": [
    "for name, count in zip(*np.unique(y, return_counts=True)):\n",
    "    print(name.ljust(25), f\"{count/y.shape[0]:.0%}\")"
   ]
  },
  {
   "cell_type": "code",
   "execution_count": 304,
   "metadata": {},
   "outputs": [
    {
     "data": {
      "text/plain": [
       "3478"
      ]
     },
     "execution_count": 304,
     "metadata": {},
     "output_type": "execute_result"
    }
   ],
   "source": [
    "y[y=='AdenomeraHylaedactylus'].shape[0]"
   ]
  },
  {
   "cell_type": "code",
   "execution_count": 305,
   "metadata": {},
   "outputs": [],
   "source": [
    "reload(nesi_unbalanced); from nesi_unbalanced import unbalanced2\n",
    "X_labelled, X_unlabelled, Y_labelled, Y_oracle, X_test, Y_test =active_split(\n",
    "    X, y, test_size=0.5, labeled_size=10, shuffle=True, mutator=partial(unbalanced2, amount=0.8), random_state=np.random\n",
    ")"
   ]
  },
  {
   "cell_type": "code",
   "execution_count": 306,
   "metadata": {},
   "outputs": [],
   "source": [
    "X = np.concatenate((X_labelled, X_unlabelled))\n",
    "y = np.concatenate((Y_labelled, Y_oracle))"
   ]
  },
  {
   "cell_type": "code",
   "execution_count": 307,
   "metadata": {},
   "outputs": [
    {
     "name": "stdout",
     "output_type": "stream",
     "text": [
      "Train distribution\n",
      "AdenomeraAndre            4%\n",
      "AdenomeraHylaedactylus    80%\n",
      "Ameeregatrivittata        3%\n",
      "HylaMinuta                2%\n",
      "HypsiboasCinerascens      2%\n",
      "HypsiboasCordobae         6%\n",
      "LeptodactylusFuscus       2%\n",
      "OsteocephalusOophagus     1%\n",
      "Rhinellagranulosa         0%\n",
      "ScinaxRuber               1%\n"
     ]
    }
   ],
   "source": [
    "print(\"Train distribution\")\n",
    "for name, count in zip(*np.unique(y, return_counts=True)):\n",
    "    print(name.ljust(25), f\"{count/y.shape[0]:.0%}\")"
   ]
  },
  {
   "cell_type": "code",
   "execution_count": 308,
   "metadata": {},
   "outputs": [
    {
     "name": "stdout",
     "output_type": "stream",
     "text": [
      "Test distribution\n",
      "AdenomeraAndre            9%\n",
      "AdenomeraHylaedactylus    48%\n",
      "Ameeregatrivittata        7%\n",
      "HylaMinuta                4%\n",
      "HypsiboasCinerascens      7%\n",
      "HypsiboasCordobae         15%\n",
      "LeptodactylusFuscus       3%\n",
      "OsteocephalusOophagus     2%\n",
      "Rhinellagranulosa         1%\n",
      "ScinaxRuber               2%\n"
     ]
    }
   ],
   "source": [
    "print(\"Test distribution\")\n",
    "for name, count in zip(*np.unique(Y_test, return_counts=True)):\n",
    "    print(name.ljust(25), f\"{count/Y_test.shape[0]:.0%}\")"
   ]
  },
  {
   "cell_type": "code",
   "execution_count": 309,
   "metadata": {},
   "outputs": [
    {
     "data": {
      "text/plain": [
       "(2165, 3598)"
      ]
     },
     "execution_count": 309,
     "metadata": {},
     "output_type": "execute_result"
    }
   ],
   "source": [
    "y.shape[0], Y_test.shape[0]"
   ]
  },
  {
   "cell_type": "markdown",
   "metadata": {},
   "source": [
    "# Dataset verification"
   ]
  },
  {
   "cell_type": "code",
   "execution_count": 345,
   "metadata": {},
   "outputs": [],
   "source": [
    "reload(nesi_unbalanced); from nesi_unbalanced import matrix, unbalanced2"
   ]
  },
  {
   "cell_type": "code",
   "execution_count": 346,
   "metadata": {},
   "outputs": [
    {
     "name": "stdout",
     "output_type": "stream",
     "text": [
      "avila has a split 8688 10434\n",
      "Train distribution\n",
      "A                         50%\n",
      "B                         0%\n",
      "C                         1%\n",
      "D                         3%\n",
      "E                         9%\n",
      "F                         16%\n",
      "G                         4%\n",
      "H                         4%\n",
      "I                         7%\n",
      "W                         0%\n",
      "X                         4%\n",
      "Y                         2%\n",
      "Test distribution\n",
      "A                         40%\n",
      "B                         0%\n",
      "C                         1%\n",
      "D                         3%\n",
      "E                         10%\n",
      "F                         19%\n",
      "G                         4%\n",
      "H                         5%\n",
      "I                         8%\n",
      "W                         0%\n",
      "X                         5%\n",
      "Y                         3%\n",
      "sensorless has a split 5499 29255\n",
      "Train distribution\n",
      "1.0                       5%\n",
      "2.0                       5%\n",
      "3.0                       5%\n",
      "4.0                       5%\n",
      "5.0                       5%\n",
      "6.0                       5%\n",
      "7.0                       5%\n",
      "8.0                       5%\n",
      "9.0                       5%\n",
      "10.0                      50%\n",
      "11.0                      5%\n",
      "Test distribution\n",
      "1                         9%\n",
      "2                         9%\n",
      "3                         9%\n",
      "4                         9%\n",
      "5                         9%\n",
      "6                         9%\n",
      "7                         9%\n",
      "8                         9%\n",
      "9                         9%\n",
      "10                        9%\n",
      "11                        9%\n",
      "anuran has a split 3486 3598\n",
      "Train distribution\n",
      "AdenomeraAndre            9%\n",
      "AdenomeraHylaedactylus    50%\n",
      "Ameeregatrivittata        8%\n",
      "HylaMinuta                5%\n",
      "HypsiboasCinerascens      6%\n",
      "HypsiboasCordobae         15%\n",
      "LeptodactylusFuscus       4%\n",
      "OsteocephalusOophagus     1%\n",
      "Rhinellagranulosa         1%\n",
      "ScinaxRuber               2%\n",
      "Test distribution\n",
      "AdenomeraAndre            9%\n",
      "AdenomeraHylaedactylus    48%\n",
      "Ameeregatrivittata        7%\n",
      "HylaMinuta                4%\n",
      "HypsiboasCinerascens      7%\n",
      "HypsiboasCordobae         16%\n",
      "LeptodactylusFuscus       4%\n",
      "OsteocephalusOophagus     2%\n",
      "Rhinellagranulosa         1%\n",
      "ScinaxRuber               2%\n"
     ]
    },
    {
     "name": "stderr",
     "output_type": "stream",
     "text": [
      "C:\\Users\\Zac\\Programming\\python\\research\\libactive.py:70: FutureWarning: elementwise comparison failed; returning scalar instead, but in the future will perform elementwise comparison\n",
      "  if klass not in Y_labelled:\n"
     ]
    }
   ],
   "source": [
    "for name, dataset in matrix['datasets']:\n",
    "    try:\n",
    "        X_labelled, X_unlabelled, Y_labelled, Y_oracle, X_test, Y_test = active_split(\n",
    "            *dataset(), mutator=partial(unbalanced2, amount=0.5), test_size=0.5, labeled_size=10, shuffle=True, random_state=np.random\n",
    "        )\n",
    "    except ValueError as e:\n",
    "        print(name, \"could not be split:\", e)\n",
    "        continue\n",
    "    if isinstance(X_labelled, scipy.sparse.csr_matrix):\n",
    "        X = scipy.sparse.vstack((X_labelled, X_unlabelled))\n",
    "    else:\n",
    "        X = np.concatenate((X_labelled, X_unlabelled))\n",
    "    y = np.concatenate((Y_labelled, Y_oracle))\n",
    "    print(name, \"has a split\", y.shape[0], Y_test.shape[0])\n",
    "    \n",
    "    print(\"Train distribution\")\n",
    "    for name, count in zip(*np.unique(y, return_counts=True)):\n",
    "        print(str(name).ljust(25), f\"{count/y.shape[0]:.0%}\")\n",
    "    \n",
    "    print(\"Test distribution\")\n",
    "    for name, count in zip(*np.unique(Y_test, return_counts=True)):\n",
    "        print(str(name).ljust(25), f\"{count/Y_test.shape[0]:.0%}\")"
   ]
  },
  {
   "cell_type": "markdown",
   "metadata": {},
   "source": [
    "anuran, sensorless, avila"
   ]
  }
 ],
 "metadata": {
  "kernelspec": {
   "display_name": "Python 3",
   "language": "python",
   "name": "python3"
  },
  "language_info": {
   "codemirror_mode": {
    "name": "ipython",
    "version": 3
   },
   "file_extension": ".py",
   "mimetype": "text/x-python",
   "name": "python",
   "nbconvert_exporter": "python",
   "pygments_lexer": "ipython3",
   "version": "3.8.5"
  }
 },
 "nbformat": 4,
 "nbformat_minor": 4
}
