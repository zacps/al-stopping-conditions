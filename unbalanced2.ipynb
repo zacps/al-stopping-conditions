{
 "cells": [
  {
   "cell_type": "code",
   "execution_count": 42,
   "metadata": {},
   "outputs": [],
   "source": [
    "from importlib import reload\n",
    "from nesi_unbalanced import unbalanced2\n",
    "from libdatasets import *\n",
    "import libdatasets\n",
    "from libactive import active_split\n",
    "from dotenv import load_dotenv; load_dotenv()\n",
    "from tabulate import tabulate\n",
    "import numpy as np\n",
    "import nesi_unbalanced\n",
    "import scipy\n",
    "import traceback"
   ]
  },
  {
   "cell_type": "code",
   "execution_count": 2,
   "metadata": {},
   "outputs": [],
   "source": [
    "reload(libdatasets); from libdatasets import *"
   ]
  },
  {
   "cell_type": "code",
   "execution_count": 54,
   "metadata": {},
   "outputs": [
    {
     "name": "stdout",
     "output_type": "stream",
     "text": [
      "avila has a split 6205 10434\n",
      "Class    Train    Test\n",
      "-------  -------  ------\n",
      "A        70%      40%\n",
      "B        0%       0%\n",
      "C        0%       1%\n",
      "D        2%       3%\n",
      "E        5%       11%\n",
      "F        10%      19%\n",
      "G        2%       4%\n",
      "H        2%       5%\n",
      "I        4%       8%\n",
      "W        0%       0%\n",
      "X        2%       5%\n",
      "Y        1%       3%\n",
      "\n",
      "swarm has a split 8700 12008\n",
      "  Class  Train    Test\n",
      "-------  -------  ------\n",
      "      0  30%      51%\n",
      "      1  70%      49%\n",
      "\n",
      "sensorless has a split 3896 29255\n",
      "  Class  Train    Test\n",
      "-------  -------  ------\n",
      "      1  3%       9%\n",
      "      2  70%      9%\n",
      "      3  3%       9%\n",
      "      4  3%       9%\n",
      "      5  3%       9%\n",
      "      6  3%       9%\n",
      "      7  3%       9%\n",
      "      8  3%       9%\n",
      "      9  3%       9%\n",
      "     10  3%       9%\n",
      "     11  3%       9%\n",
      "\n",
      "anuran has a split 2481 3598\n",
      "Class                   Train    Test\n",
      "----------------------  -------  ------\n",
      "AdenomeraAndre          5%       9%\n",
      "AdenomeraHylaedactylus  70%      48%\n",
      "Ameeregatrivittata      4%       8%\n",
      "HylaMinuta              3%       4%\n",
      "HypsiboasCinerascens    4%       6%\n",
      "HypsiboasCordobae       9%       16%\n",
      "LeptodactylusFuscus     2%       4%\n",
      "OsteocephalusOophagus   1%       1%\n",
      "Rhinellagranulosa       1%       1%\n",
      "ScinaxRuber             1%       2%\n",
      "\n"
     ]
    },
    {
     "name": "stderr",
     "output_type": "stream",
     "text": [
      "C:\\Users\\Zac\\Programming\\python\\research\\libactive.py:71: FutureWarning: elementwise comparison failed; returning scalar instead, but in the future will perform elementwise comparison\n",
      "  if klass not in Y_labelled:\n"
     ]
    }
   ],
   "source": [
    "reload(nesi_unbalanced); from nesi_unbalanced import matrix, unbalanced2\n",
    "for name, dataset in matrix['datasets']:\n",
    "    try:\n",
    "        X_labelled, X_unlabelled, Y_labelled, Y_oracle, X_test, Y_test = active_split(\n",
    "            *dataset(), mutator=partial(unbalanced2, amount=0.7), test_size=0.5, labeled_size=10, shuffle=True, random_state=np.random\n",
    "        )\n",
    "    except (ValueError, IndexError) as e:\n",
    "        print(name, \"could not be split:\", e)\n",
    "        continue\n",
    "    if isinstance(X_labelled, scipy.sparse.csr_matrix):\n",
    "        X = scipy.sparse.vstack((X_labelled, X_unlabelled))\n",
    "    else:\n",
    "        X = np.concatenate((X_labelled, X_unlabelled))\n",
    "    y = np.concatenate((Y_labelled, Y_oracle))\n",
    "    print(name, \"has a split\", y.shape[0], Y_test.shape[0])\n",
    "    \n",
    "    \n",
    "    print(tabulate(zip(np.unique(y), [f\"{x:.0%}\" for x in np.unique(y, return_counts=True)[1]/y.shape[0]], [f\"{x:.0%}\" for x in np.unique(Y_test, return_counts=True)[1]/Y_test.shape[0]]), headers=[\"Class\", \"Train\", \"Test\"]))\n",
    "    print()"
   ]
  },
  {
   "cell_type": "markdown",
   "metadata": {},
   "source": [
    "### Chosen datasets\n",
    "\n",
    "* avila,\n",
    "* smartphone\n",
    "* sensorless"
   ]
  },
  {
   "cell_type": "markdown",
   "metadata": {},
   "source": [
    "### Accuracy Differences"
   ]
  },
  {
   "cell_type": "code",
   "execution_count": 46,
   "metadata": {},
   "outputs": [
    {
     "name": "stdout",
     "output_type": "stream",
     "text": [
      "avila\n"
     ]
    },
    {
     "name": "stderr",
     "output_type": "stream",
     "text": [
      "C:\\Users\\Zac\\Programming\\python\\research\\libactive.py:71: FutureWarning: elementwise comparison failed; returning scalar instead, but in the future will perform elementwise comparison\n",
      "  if klass not in Y_labelled:\n"
     ]
    },
    {
     "name": "stdout",
     "output_type": "stream",
     "text": [
      "swarm\n",
      "sensorless\n",
      "anuran\n"
     ]
    },
    {
     "name": "stderr",
     "output_type": "stream",
     "text": [
      "C:\\Users\\Zac\\Programming\\python\\research\\libactive.py:71: FutureWarning: elementwise comparison failed; returning scalar instead, but in the future will perform elementwise comparison\n",
      "  if klass not in Y_labelled:\n"
     ]
    }
   ],
   "source": [
    "from sklearn.svm import SVC\n",
    "from sklearn.preprocessing import StandardScaler\n",
    "from time import monotonic\n",
    "reload(nesi_unbalanced); from nesi_unbalanced import matrix, unbalanced2\n",
    "results = []\n",
    "for (name, dataset) in matrix['datasets']:\n",
    "    print(name)\n",
    "    X, y = dataset()\n",
    "    \n",
    "    try:\n",
    "        X_labelled, X_unlabelled, Y_labelled, Y_oracle, X_test, Y_test = active_split(\n",
    "            *dataset(), mutator=partial(unbalanced2, amount=0.7), test_size=0.5, labeled_size=10, shuffle=True, random_state=np.random\n",
    "        )\n",
    "    except (ValueError, IndexError) as e:\n",
    "        print(name, \"could not be split:\", e)\n",
    "        traceback.print_exc()\n",
    "        continue\n",
    "    if isinstance(X_labelled, scipy.sparse.csr_matrix):\n",
    "        X = scipy.sparse.vstack((X_labelled, X_unlabelled))\n",
    "    else:\n",
    "        X = np.concatenate((X_labelled, X_unlabelled))\n",
    "    y = np.concatenate((Y_labelled, Y_oracle))\n",
    "    \n",
    "    clf = SVC(kernel='linear', probability=True)\n",
    "\n",
    "    clf.fit(X_labelled, Y_labelled)\n",
    "    start = clf.score(X_test, Y_test)\n",
    "    start_t = monotonic()\n",
    "    clf.fit(X_unlabelled[:1000], Y_oracle[:1000])\n",
    "    time = monotonic() - start_t\n",
    "    final = clf.score(X_test, Y_test)\n",
    "    results.append([name, start, final, time])"
   ]
  },
  {
   "cell_type": "code",
   "execution_count": 47,
   "metadata": {},
   "outputs": [
    {
     "name": "stdout",
     "output_type": "stream",
     "text": [
      "Name          Initial acc    Final acc    Time      Diff\n",
      "----------  -------------  -----------  ------  --------\n",
      "avila            0.222638     0.518497   0.203  0.29586\n",
      "swarm            0.648235     0.960859   3.14   0.312625\n",
      "sensorless       0.247479     0.719467   0.296  0.471988\n",
      "anuran           0.774597     0.913285   0.047  0.138688\n"
     ]
    }
   ],
   "source": [
    "results = np.array(results)\n",
    "print(tabulate(np.hstack((results, np.expand_dims(results[:,2].astype(float)-results[:,1].astype(float), axis=1))), headers=[\"Name\", \"Initial acc\", \"Final acc\", \"Time\", \"Diff\"]))"
   ]
  },
  {
   "cell_type": "markdown",
   "metadata": {},
   "source": [
    "### Stable seed test"
   ]
  },
  {
   "cell_type": "code",
   "execution_count": 62,
   "metadata": {},
   "outputs": [
    {
     "name": "stdout",
     "output_type": "stream",
     "text": [
      "avila\n",
      "A\n",
      "  0 FAILED: index 0 is out of bounds for axis 0 with size 0\n",
      "A\n",
      "  1 OK\n",
      "A\n",
      "  2 OK\n",
      "A\n",
      "  3 OK\n",
      "A\n",
      "  4 OK\n",
      "A\n",
      "  5 OK\n",
      "A\n",
      "  6 OK\n",
      "A\n",
      "  7 OK\n",
      "A\n",
      "  8 OK\n",
      "A\n",
      "  9 OK\n",
      "A\n",
      "  10 OK\n",
      "swarm\n",
      "1\n",
      "  0 OK\n",
      "1\n",
      "  1 OK\n",
      "1\n",
      "  2 OK\n",
      "0\n",
      "  3 OK\n",
      "1\n",
      "  4 OK\n",
      "0\n",
      "  5 OK\n",
      "0\n",
      "  6 OK\n",
      "0\n",
      "  7 OK\n",
      "0\n",
      "  8 OK\n",
      "0\n",
      "  9 OK\n",
      "0\n",
      "  10 OK\n",
      "sensorless\n",
      "10\n",
      "  0 OK\n",
      "8\n",
      "  1 OK\n",
      "10\n",
      "  2 OK\n",
      "4\n",
      "  3 OK\n",
      "8\n",
      "  4 OK\n",
      "9\n",
      "  5 OK\n",
      "1\n",
      "  6 OK\n",
      "1\n",
      "  7 OK\n",
      "8\n",
      "  8 OK\n",
      "5\n",
      "  9 OK\n",
      "3\n",
      "  10 OK\n",
      "anuran\n",
      "AdenomeraHylaedactylus\n",
      "  0 OK\n",
      "AdenomeraHylaedactylus\n",
      "  1 OK\n",
      "AdenomeraHylaedactylus\n",
      "  2 OK\n",
      "AdenomeraHylaedactylus\n",
      "  3 OK\n",
      "AdenomeraHylaedactylus\n",
      "  4 OK\n",
      "AdenomeraHylaedactylus\n",
      "  5 OK\n",
      "AdenomeraHylaedactylus\n",
      "  6 OK\n",
      "AdenomeraHylaedactylus\n",
      "  7 OK\n",
      "AdenomeraHylaedactylus\n",
      "  8 OK\n",
      "AdenomeraHylaedactylus\n",
      "  9 OK\n",
      "AdenomeraHylaedactylus\n",
      "  10 OK\n"
     ]
    },
    {
     "name": "stderr",
     "output_type": "stream",
     "text": [
      "C:\\Users\\Zac\\Programming\\python\\research\\libactive.py:71: FutureWarning: elementwise comparison failed; returning scalar instead, but in the future will perform elementwise comparison\n",
      "  if klass not in Y_labelled:\n"
     ]
    }
   ],
   "source": [
    "from sklearn.svm import SVC\n",
    "from sklearn.preprocessing import StandardScaler\n",
    "from sklearn.utils import check_random_state\n",
    "from time import monotonic\n",
    "reload(nesi_unbalanced); from nesi_unbalanced import matrix, unbalanced2\n",
    "results = []\n",
    "for (name, dataset) in matrix['datasets']:\n",
    "    print(name)\n",
    "    X, y = dataset()\n",
    "    \n",
    "    for i in range(11):\n",
    "        try:\n",
    "            X_labelled, X_unlabelled, Y_labelled, Y_oracle, X_test, Y_test = active_split(\n",
    "                *dataset(), mutator=partial(unbalanced2, amount=0.7), test_size=0.5, labeled_size=10, shuffle=True, random_state=check_random_state(i)\n",
    "            )\n",
    "        except Exception as e:\n",
    "            print(f\"  {i} FAILED: {e}\")\n",
    "        else:\n",
    "            print(f\"  {i} OK\")\n"
   ]
  },
  {
   "cell_type": "code",
   "execution_count": null,
   "metadata": {},
   "outputs": [],
   "source": []
  }
 ],
 "metadata": {
  "kernelspec": {
   "display_name": "Python 3",
   "language": "python",
   "name": "python3"
  },
  "language_info": {
   "codemirror_mode": {
    "name": "ipython",
    "version": 3
   },
   "file_extension": ".py",
   "mimetype": "text/x-python",
   "name": "python",
   "nbconvert_exporter": "python",
   "pygments_lexer": "ipython3",
   "version": "3.8.5"
  }
 },
 "nbformat": 4,
 "nbformat_minor": 4
}
