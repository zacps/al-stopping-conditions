{
 "cells": [
  {
   "cell_type": "markdown",
   "metadata": {},
   "source": [
    "# Complete progress listing"
   ]
  },
  {
   "cell_type": "markdown",
   "metadata": {},
   "source": [
    "N|Dataset|Runs completed|Runs in progress|Debug|Memory|Time (2 runs)|\n",
    "---|---|---|---|---|---|---|\n",
    "0|Newsgroups|||No|612M\n",
    "1|RCV1||||4G||0\n",
    "2|WebKB||||4G||0\n",
    "3|Spamassassin|||No|612M\n",
    "4|Cifar10|\n",
    "5|Quickdraw|\n",
    "6|Avila|||No|612M\n",
    "7|Shuttle|\n",
    "8|Covertype|||No|2500M|24+10+(?/10)\n",
    "9|Smartphone||\n",
    "10|htru2|\n",
    "11|malware|\n",
    "12|bidding|\n",
    "13|swarm|||No|4G\n",
    "14|bank|\n",
    "15|buzz|||**YES**\n",
    "16|Sensor||||4G||0\n",
    "17|dota2|\n",
    "18|abalone|\n",
    "19|Splice|||No|612M|23h|0\n",
    "20|Anuran|2||No|612M|19.1h|0\n",
    "21|cardio|\n",
    "22|skin|"
   ]
  },
  {
   "cell_type": "markdown",
   "metadata": {},
   "source": [
    "## Bugs"
   ]
  },
  {
   "cell_type": "markdown",
   "metadata": {},
   "source": [
    "Buzz: `~/logs/18758581_Buzz_4294967294.txt`"
   ]
  }
 ],
 "metadata": {
  "kernelspec": {
   "display_name": "Python 3",
   "language": "python",
   "name": "python3"
  },
  "language_info": {
   "codemirror_mode": {
    "name": "ipython",
    "version": 3
   },
   "file_extension": ".py",
   "mimetype": "text/x-python",
   "name": "python",
   "nbconvert_exporter": "python",
   "pygments_lexer": "ipython3",
   "version": "3.8.5"
  }
 },
 "nbformat": 4,
 "nbformat_minor": 4
}
